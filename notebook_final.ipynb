{
 "cells": [
  {
   "cell_type": "markdown",
   "metadata": {},
   "source": [
    "# Prediccion de ingresos laborales basado en la encuesta anual de hogares 2018"
   ]
  },
  {
   "cell_type": "markdown",
   "metadata": {},
   "source": [
    "### Importando librerias\n"
   ]
  },
  {
   "cell_type": "code",
   "execution_count": 1,
   "metadata": {},
   "outputs": [],
   "source": [
    "import pandas as pd\n",
    "import numpy as np\n",
    "import matplotlib.pyplot as plt\n",
    "import seaborn as sns"
   ]
  },
  {
   "cell_type": "markdown",
   "metadata": {},
   "source": [
    "### Lectura del dataset"
   ]
  },
  {
   "cell_type": "code",
   "execution_count": 2,
   "metadata": {},
   "outputs": [
    {
     "data": {
      "text/html": [
       "<div>\n",
       "<style scoped>\n",
       "    .dataframe tbody tr th:only-of-type {\n",
       "        vertical-align: middle;\n",
       "    }\n",
       "\n",
       "    .dataframe tbody tr th {\n",
       "        vertical-align: top;\n",
       "    }\n",
       "\n",
       "    .dataframe thead th {\n",
       "        text-align: right;\n",
       "    }\n",
       "</style>\n",
       "<table border=\"1\" class=\"dataframe\">\n",
       "  <thead>\n",
       "    <tr style=\"text-align: right;\">\n",
       "      <th></th>\n",
       "      <th>id</th>\n",
       "      <th>nhogar</th>\n",
       "      <th>miembro</th>\n",
       "      <th>comuna</th>\n",
       "      <th>dominio</th>\n",
       "      <th>edad</th>\n",
       "      <th>sexo</th>\n",
       "      <th>parentesco_jefe</th>\n",
       "      <th>situacion_conyugal</th>\n",
       "      <th>num_miembro_padre</th>\n",
       "      <th>...</th>\n",
       "      <th>ingreso_per_capita_familiar</th>\n",
       "      <th>estado_educativo</th>\n",
       "      <th>sector_educativo</th>\n",
       "      <th>nivel_actual</th>\n",
       "      <th>nivel_max_educativo</th>\n",
       "      <th>años_escolaridad</th>\n",
       "      <th>lugar_nacimiento</th>\n",
       "      <th>afiliacion_salud</th>\n",
       "      <th>hijos_nacidos_vivos</th>\n",
       "      <th>cantidad_hijos_nac_vivos</th>\n",
       "    </tr>\n",
       "  </thead>\n",
       "  <tbody>\n",
       "    <tr>\n",
       "      <th>0</th>\n",
       "      <td>1</td>\n",
       "      <td>1</td>\n",
       "      <td>1</td>\n",
       "      <td>8</td>\n",
       "      <td>Resto de la Ciudad</td>\n",
       "      <td>16</td>\n",
       "      <td>Varon</td>\n",
       "      <td>Jefe</td>\n",
       "      <td>Soltero/a</td>\n",
       "      <td>Padre no vive en el hogar</td>\n",
       "      <td>...</td>\n",
       "      <td>2000</td>\n",
       "      <td>No asiste pero asistió</td>\n",
       "      <td>No corresponde</td>\n",
       "      <td>No corresponde</td>\n",
       "      <td>EGB (1° a 9° año)</td>\n",
       "      <td>7</td>\n",
       "      <td>Pais limitrofe</td>\n",
       "      <td>Solo sistema publico</td>\n",
       "      <td>NaN</td>\n",
       "      <td>No corresponde</td>\n",
       "    </tr>\n",
       "    <tr>\n",
       "      <th>1</th>\n",
       "      <td>2</td>\n",
       "      <td>1</td>\n",
       "      <td>1</td>\n",
       "      <td>9</td>\n",
       "      <td>Villas de emergencia</td>\n",
       "      <td>18</td>\n",
       "      <td>Mujer</td>\n",
       "      <td>Jefe</td>\n",
       "      <td>Unido/a</td>\n",
       "      <td>Padre no vive en el hogar</td>\n",
       "      <td>...</td>\n",
       "      <td>5833</td>\n",
       "      <td>Asiste</td>\n",
       "      <td>Estatal/publico</td>\n",
       "      <td>Secundario/medio adultos</td>\n",
       "      <td>EGB (1° a 9° año)</td>\n",
       "      <td>8</td>\n",
       "      <td>CABA</td>\n",
       "      <td>Solo sistema publico</td>\n",
       "      <td>Si</td>\n",
       "      <td>1</td>\n",
       "    </tr>\n",
       "    <tr>\n",
       "      <th>2</th>\n",
       "      <td>2</td>\n",
       "      <td>1</td>\n",
       "      <td>2</td>\n",
       "      <td>9</td>\n",
       "      <td>Villas de emergencia</td>\n",
       "      <td>37</td>\n",
       "      <td>Varon</td>\n",
       "      <td>Otro familiar</td>\n",
       "      <td>Unido/a</td>\n",
       "      <td>No corresponde</td>\n",
       "      <td>...</td>\n",
       "      <td>5833</td>\n",
       "      <td>No asiste pero asistió</td>\n",
       "      <td>No corresponde</td>\n",
       "      <td>No corresponde</td>\n",
       "      <td>Sala de 5</td>\n",
       "      <td>3</td>\n",
       "      <td>CABA</td>\n",
       "      <td>Solo sistema publico</td>\n",
       "      <td>NaN</td>\n",
       "      <td>No corresponde</td>\n",
       "    </tr>\n",
       "    <tr>\n",
       "      <th>3</th>\n",
       "      <td>2</td>\n",
       "      <td>1</td>\n",
       "      <td>3</td>\n",
       "      <td>9</td>\n",
       "      <td>Villas de emergencia</td>\n",
       "      <td>0</td>\n",
       "      <td>Varon</td>\n",
       "      <td>Hijo/a - Hijastro/a</td>\n",
       "      <td>No corresponde</td>\n",
       "      <td>Padre no vive en el hogar</td>\n",
       "      <td>...</td>\n",
       "      <td>5833</td>\n",
       "      <td>Nunca asistio</td>\n",
       "      <td>No corresponde</td>\n",
       "      <td>No corresponde</td>\n",
       "      <td>NaN</td>\n",
       "      <td>Ningun año de escolaridad aprobado</td>\n",
       "      <td>CABA</td>\n",
       "      <td>Solo sistema publico</td>\n",
       "      <td>NaN</td>\n",
       "      <td>No corresponde</td>\n",
       "    </tr>\n",
       "    <tr>\n",
       "      <th>4</th>\n",
       "      <td>3</td>\n",
       "      <td>1</td>\n",
       "      <td>1</td>\n",
       "      <td>2</td>\n",
       "      <td>Resto de la Ciudad</td>\n",
       "      <td>18</td>\n",
       "      <td>Mujer</td>\n",
       "      <td>Jefe</td>\n",
       "      <td>Soltero/a</td>\n",
       "      <td>Padre no vive en el hogar</td>\n",
       "      <td>...</td>\n",
       "      <td>6000</td>\n",
       "      <td>Asiste</td>\n",
       "      <td>Estatal/publico</td>\n",
       "      <td>Universitario</td>\n",
       "      <td>Otras escuelas especiales</td>\n",
       "      <td>12</td>\n",
       "      <td>PBA excepto GBA</td>\n",
       "      <td>Solo obra social</td>\n",
       "      <td>No</td>\n",
       "      <td>No corresponde</td>\n",
       "    </tr>\n",
       "  </tbody>\n",
       "</table>\n",
       "<p>5 rows × 31 columns</p>\n",
       "</div>"
      ],
      "text/plain": [
       "   id  nhogar  miembro  comuna               dominio  edad   sexo  \\\n",
       "0   1       1        1       8    Resto de la Ciudad    16  Varon   \n",
       "1   2       1        1       9  Villas de emergencia    18  Mujer   \n",
       "2   2       1        2       9  Villas de emergencia    37  Varon   \n",
       "3   2       1        3       9  Villas de emergencia     0  Varon   \n",
       "4   3       1        1       2    Resto de la Ciudad    18  Mujer   \n",
       "\n",
       "       parentesco_jefe situacion_conyugal          num_miembro_padre  ...  \\\n",
       "0                 Jefe          Soltero/a  Padre no vive en el hogar  ...   \n",
       "1                 Jefe            Unido/a  Padre no vive en el hogar  ...   \n",
       "2        Otro familiar            Unido/a             No corresponde  ...   \n",
       "3  Hijo/a - Hijastro/a     No corresponde  Padre no vive en el hogar  ...   \n",
       "4                 Jefe          Soltero/a  Padre no vive en el hogar  ...   \n",
       "\n",
       "  ingreso_per_capita_familiar        estado_educativo sector_educativo  \\\n",
       "0                        2000  No asiste pero asistió   No corresponde   \n",
       "1                        5833                  Asiste  Estatal/publico   \n",
       "2                        5833  No asiste pero asistió   No corresponde   \n",
       "3                        5833           Nunca asistio   No corresponde   \n",
       "4                        6000                  Asiste  Estatal/publico   \n",
       "\n",
       "               nivel_actual        nivel_max_educativo  \\\n",
       "0            No corresponde          EGB (1° a 9° año)   \n",
       "1  Secundario/medio adultos          EGB (1° a 9° año)   \n",
       "2            No corresponde                  Sala de 5   \n",
       "3            No corresponde                        NaN   \n",
       "4             Universitario  Otras escuelas especiales   \n",
       "\n",
       "                     años_escolaridad  lugar_nacimiento      afiliacion_salud  \\\n",
       "0                                   7    Pais limitrofe  Solo sistema publico   \n",
       "1                                   8              CABA  Solo sistema publico   \n",
       "2                                   3              CABA  Solo sistema publico   \n",
       "3  Ningun año de escolaridad aprobado              CABA  Solo sistema publico   \n",
       "4                                  12   PBA excepto GBA      Solo obra social   \n",
       "\n",
       "   hijos_nacidos_vivos cantidad_hijos_nac_vivos  \n",
       "0                  NaN           No corresponde  \n",
       "1                   Si                        1  \n",
       "2                  NaN           No corresponde  \n",
       "3                  NaN           No corresponde  \n",
       "4                   No           No corresponde  \n",
       "\n",
       "[5 rows x 31 columns]"
      ]
     },
     "execution_count": 2,
     "metadata": {},
     "output_type": "execute_result"
    }
   ],
   "source": [
    "dataframe = pd.read_csv('./encuesta-anual-hogares-2018.csv', encoding='latin1')\n",
    "dataframe.head(5)"
   ]
  },
  {
   "cell_type": "markdown",
   "metadata": {},
   "source": [
    "Se usa el metodo info para ver rapidamente que columnas tienen valores faltantes"
   ]
  },
  {
   "cell_type": "code",
   "execution_count": 3,
   "metadata": {},
   "outputs": [
    {
     "name": "stdout",
     "output_type": "stream",
     "text": [
      "<class 'pandas.core.frame.DataFrame'>\n",
      "RangeIndex: 14497 entries, 0 to 14496\n",
      "Data columns (total 31 columns):\n",
      " #   Column                       Non-Null Count  Dtype \n",
      "---  ------                       --------------  ----- \n",
      " 0   id                           14497 non-null  int64 \n",
      " 1   nhogar                       14497 non-null  int64 \n",
      " 2   miembro                      14497 non-null  int64 \n",
      " 3   comuna                       14497 non-null  int64 \n",
      " 4   dominio                      14497 non-null  object\n",
      " 5   edad                         14497 non-null  int64 \n",
      " 6   sexo                         14497 non-null  object\n",
      " 7   parentesco_jefe              14497 non-null  object\n",
      " 8   situacion_conyugal           14496 non-null  object\n",
      " 9   num_miembro_padre            14497 non-null  object\n",
      " 10  num_miembro_madre            14497 non-null  object\n",
      " 11  estado_ocupacional           14497 non-null  object\n",
      " 12  cat_ocupacional              14497 non-null  object\n",
      " 13  calidad_ingresos_lab         14497 non-null  object\n",
      " 14  ingreso_total_lab            14497 non-null  int64 \n",
      " 15  calidad_ingresos_no_lab      14497 non-null  object\n",
      " 16  ingreso_total_no_lab         14497 non-null  int64 \n",
      " 17  calidad_ingresos_totales     14497 non-null  object\n",
      " 18  ingresos_totales             14497 non-null  int64 \n",
      " 19  calidad_ingresos_familiares  14497 non-null  object\n",
      " 20  ingresos_familiares          14497 non-null  int64 \n",
      " 21  ingreso_per_capita_familiar  14497 non-null  int64 \n",
      " 22  estado_educativo             14497 non-null  object\n",
      " 23  sector_educativo             14495 non-null  object\n",
      " 24  nivel_actual                 14497 non-null  object\n",
      " 25  nivel_max_educativo          13388 non-null  object\n",
      " 26  años_escolaridad             14412 non-null  object\n",
      " 27  lugar_nacimiento             14496 non-null  object\n",
      " 28  afiliacion_salud             14496 non-null  object\n",
      " 29  hijos_nacidos_vivos          6519 non-null   object\n",
      " 30  cantidad_hijos_nac_vivos     14495 non-null  object\n",
      "dtypes: int64(10), object(21)\n",
      "memory usage: 3.4+ MB\n"
     ]
    }
   ],
   "source": [
    "dataframe.info()"
   ]
  },
  {
   "cell_type": "markdown",
   "metadata": {},
   "source": [
    "### Manejar datos faltantes"
   ]
  },
  {
   "cell_type": "markdown",
   "metadata": {},
   "source": [
    "Se procede a hacer una funcion *columnas_nan* que guarda en una lista *columnas_val_faltantes* el nombre de la columna siempre y cuando tenga valores NaN, en caso de que ninguna columna tenga valores nulos devuelve string avisando que ya se termino de tratar con valores faltantes"
   ]
  },
  {
   "cell_type": "code",
   "execution_count": 4,
   "metadata": {},
   "outputs": [],
   "source": [
    "def columnas_nan(df):\n",
    "    columnas_val_faltantes = df.columns[df.isnull().any()].tolist()\n",
    "    \n",
    "    if columnas_val_faltantes:\n",
    "        print(f\"Columnas con NaN: {', '.join(columnas_val_faltantes)}\")\n",
    "    else:\n",
    "        print(\"Ya no quedan valores faltantes\")"
   ]
  },
  {
   "cell_type": "code",
   "execution_count": 5,
   "metadata": {},
   "outputs": [
    {
     "name": "stdout",
     "output_type": "stream",
     "text": [
      "Columnas con NaN: situacion_conyugal, sector_educativo, nivel_max_educativo, años_escolaridad, lugar_nacimiento, afiliacion_salud, hijos_nacidos_vivos, cantidad_hijos_nac_vivos\n"
     ]
    }
   ],
   "source": [
    "columnas_nan(dataframe)"
   ]
  },
  {
   "cell_type": "markdown",
   "metadata": {},
   "source": [
    "#### hijos_nacidos_vivos\n",
    "esta es la primer columna a completar, vemos que le faltan casi 8000 valores. Lo que se decidio hacer con esta columna fue compararla con cantidad de hijos nacidos vivos. Lo que ocurre es que se dejo el espacio vacio cuando la persona no tenia hijos vivos. Entonces la reemplazamos por *'No'*"
   ]
  },
  {
   "cell_type": "code",
   "execution_count": 6,
   "metadata": {},
   "outputs": [
    {
     "data": {
      "text/plain": [
       "7978"
      ]
     },
     "execution_count": 6,
     "metadata": {},
     "output_type": "execute_result"
    }
   ],
   "source": [
    "dataframe['hijos_nacidos_vivos'].isnull().sum()"
   ]
  },
  {
   "cell_type": "code",
   "execution_count": 10,
   "metadata": {},
   "outputs": [
    {
     "data": {
      "text/plain": [
       "Series([], Name: count, dtype: int64)"
      ]
     },
     "execution_count": 10,
     "metadata": {},
     "output_type": "execute_result"
    }
   ],
   "source": [
    "dataframe[dataframe['hijos_nacidos_vivos'].isna()] ['cantidad_hijos_nac_vivos'].value_counts()"
   ]
  },
  {
   "cell_type": "code",
   "execution_count": 8,
   "metadata": {},
   "outputs": [],
   "source": [
    "dataframe['hijos_nacidos_vivos'] = dataframe['hijos_nacidos_vivos'].fillna('No')"
   ]
  },
  {
   "cell_type": "markdown",
   "metadata": {},
   "source": []
  }
 ],
 "metadata": {
  "kernelspec": {
   "display_name": "Python 3",
   "language": "python",
   "name": "python3"
  },
  "language_info": {
   "codemirror_mode": {
    "name": "ipython",
    "version": 3
   },
   "file_extension": ".py",
   "mimetype": "text/x-python",
   "name": "python",
   "nbconvert_exporter": "python",
   "pygments_lexer": "ipython3",
   "version": "3.11.4"
  }
 },
 "nbformat": 4,
 "nbformat_minor": 2
}
