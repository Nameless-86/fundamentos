{
 "cells": [
  {
   "cell_type": "markdown",
   "metadata": {},
   "source": [
    "# Predecir ingresos por persona"
   ]
  },
  {
   "cell_type": "code",
   "execution_count": 1,
   "metadata": {},
   "outputs": [],
   "source": [
    "import pandas as pd\n",
    "import numpy as np\n",
    "import matplotlib.pyplot as plt\n",
    "import seaborn as sns\n",
    "from sklearn.preprocessing import LabelEncoder"
   ]
  },
  {
   "cell_type": "code",
   "execution_count": 2,
   "metadata": {},
   "outputs": [
    {
     "data": {
      "text/html": [
       "<div>\n",
       "<style scoped>\n",
       "    .dataframe tbody tr th:only-of-type {\n",
       "        vertical-align: middle;\n",
       "    }\n",
       "\n",
       "    .dataframe tbody tr th {\n",
       "        vertical-align: top;\n",
       "    }\n",
       "\n",
       "    .dataframe thead th {\n",
       "        text-align: right;\n",
       "    }\n",
       "</style>\n",
       "<table border=\"1\" class=\"dataframe\">\n",
       "  <thead>\n",
       "    <tr style=\"text-align: right;\">\n",
       "      <th></th>\n",
       "      <th>id</th>\n",
       "      <th>nhogar</th>\n",
       "      <th>miembro</th>\n",
       "      <th>comuna</th>\n",
       "      <th>dominio</th>\n",
       "      <th>edad</th>\n",
       "      <th>sexo</th>\n",
       "      <th>parentesco_jefe</th>\n",
       "      <th>situacion_conyugal</th>\n",
       "      <th>num_miembro_padre</th>\n",
       "      <th>...</th>\n",
       "      <th>ingreso_per_capita_familiar</th>\n",
       "      <th>estado_educativo</th>\n",
       "      <th>sector_educativo</th>\n",
       "      <th>nivel_actual</th>\n",
       "      <th>nivel_max_educativo</th>\n",
       "      <th>años_escolaridad</th>\n",
       "      <th>lugar_nacimiento</th>\n",
       "      <th>afiliacion_salud</th>\n",
       "      <th>hijos_nacidos_vivos</th>\n",
       "      <th>cantidad_hijos_nac_vivos</th>\n",
       "    </tr>\n",
       "  </thead>\n",
       "  <tbody>\n",
       "    <tr>\n",
       "      <th>0</th>\n",
       "      <td>1</td>\n",
       "      <td>1</td>\n",
       "      <td>1</td>\n",
       "      <td>8</td>\n",
       "      <td>Resto de la Ciudad</td>\n",
       "      <td>16</td>\n",
       "      <td>Varon</td>\n",
       "      <td>Jefe</td>\n",
       "      <td>Soltero/a</td>\n",
       "      <td>Padre no vive en el hogar</td>\n",
       "      <td>...</td>\n",
       "      <td>2000</td>\n",
       "      <td>No asiste pero asistió</td>\n",
       "      <td>No corresponde</td>\n",
       "      <td>No corresponde</td>\n",
       "      <td>EGB (1° a 9° año)</td>\n",
       "      <td>7</td>\n",
       "      <td>Pais limitrofe</td>\n",
       "      <td>Solo sistema publico</td>\n",
       "      <td>NaN</td>\n",
       "      <td>No corresponde</td>\n",
       "    </tr>\n",
       "    <tr>\n",
       "      <th>1</th>\n",
       "      <td>2</td>\n",
       "      <td>1</td>\n",
       "      <td>1</td>\n",
       "      <td>9</td>\n",
       "      <td>Villas de emergencia</td>\n",
       "      <td>18</td>\n",
       "      <td>Mujer</td>\n",
       "      <td>Jefe</td>\n",
       "      <td>Unido/a</td>\n",
       "      <td>Padre no vive en el hogar</td>\n",
       "      <td>...</td>\n",
       "      <td>5833</td>\n",
       "      <td>Asiste</td>\n",
       "      <td>Estatal/publico</td>\n",
       "      <td>Secundario/medio adultos</td>\n",
       "      <td>EGB (1° a 9° año)</td>\n",
       "      <td>8</td>\n",
       "      <td>CABA</td>\n",
       "      <td>Solo sistema publico</td>\n",
       "      <td>Si</td>\n",
       "      <td>1</td>\n",
       "    </tr>\n",
       "    <tr>\n",
       "      <th>2</th>\n",
       "      <td>2</td>\n",
       "      <td>1</td>\n",
       "      <td>2</td>\n",
       "      <td>9</td>\n",
       "      <td>Villas de emergencia</td>\n",
       "      <td>37</td>\n",
       "      <td>Varon</td>\n",
       "      <td>Otro familiar</td>\n",
       "      <td>Unido/a</td>\n",
       "      <td>No corresponde</td>\n",
       "      <td>...</td>\n",
       "      <td>5833</td>\n",
       "      <td>No asiste pero asistió</td>\n",
       "      <td>No corresponde</td>\n",
       "      <td>No corresponde</td>\n",
       "      <td>Sala de 5</td>\n",
       "      <td>3</td>\n",
       "      <td>CABA</td>\n",
       "      <td>Solo sistema publico</td>\n",
       "      <td>NaN</td>\n",
       "      <td>No corresponde</td>\n",
       "    </tr>\n",
       "    <tr>\n",
       "      <th>3</th>\n",
       "      <td>2</td>\n",
       "      <td>1</td>\n",
       "      <td>3</td>\n",
       "      <td>9</td>\n",
       "      <td>Villas de emergencia</td>\n",
       "      <td>0</td>\n",
       "      <td>Varon</td>\n",
       "      <td>Hijo/a - Hijastro/a</td>\n",
       "      <td>No corresponde</td>\n",
       "      <td>Padre no vive en el hogar</td>\n",
       "      <td>...</td>\n",
       "      <td>5833</td>\n",
       "      <td>Nunca asistio</td>\n",
       "      <td>No corresponde</td>\n",
       "      <td>No corresponde</td>\n",
       "      <td>NaN</td>\n",
       "      <td>Ningun año de escolaridad aprobado</td>\n",
       "      <td>CABA</td>\n",
       "      <td>Solo sistema publico</td>\n",
       "      <td>NaN</td>\n",
       "      <td>No corresponde</td>\n",
       "    </tr>\n",
       "    <tr>\n",
       "      <th>4</th>\n",
       "      <td>3</td>\n",
       "      <td>1</td>\n",
       "      <td>1</td>\n",
       "      <td>2</td>\n",
       "      <td>Resto de la Ciudad</td>\n",
       "      <td>18</td>\n",
       "      <td>Mujer</td>\n",
       "      <td>Jefe</td>\n",
       "      <td>Soltero/a</td>\n",
       "      <td>Padre no vive en el hogar</td>\n",
       "      <td>...</td>\n",
       "      <td>6000</td>\n",
       "      <td>Asiste</td>\n",
       "      <td>Estatal/publico</td>\n",
       "      <td>Universitario</td>\n",
       "      <td>Otras escuelas especiales</td>\n",
       "      <td>12</td>\n",
       "      <td>PBA excepto GBA</td>\n",
       "      <td>Solo obra social</td>\n",
       "      <td>No</td>\n",
       "      <td>No corresponde</td>\n",
       "    </tr>\n",
       "    <tr>\n",
       "      <th>5</th>\n",
       "      <td>4</td>\n",
       "      <td>1</td>\n",
       "      <td>1</td>\n",
       "      <td>2</td>\n",
       "      <td>Resto de la Ciudad</td>\n",
       "      <td>18</td>\n",
       "      <td>Varon</td>\n",
       "      <td>Jefe</td>\n",
       "      <td>Soltero/a</td>\n",
       "      <td>Padre no vive en el hogar</td>\n",
       "      <td>...</td>\n",
       "      <td>16500</td>\n",
       "      <td>Asiste</td>\n",
       "      <td>Privado no religioso</td>\n",
       "      <td>Universitario</td>\n",
       "      <td>Otras escuelas especiales</td>\n",
       "      <td>12</td>\n",
       "      <td>Pais no limitrofe</td>\n",
       "      <td>Solo sistema publico</td>\n",
       "      <td>NaN</td>\n",
       "      <td>No corresponde</td>\n",
       "    </tr>\n",
       "    <tr>\n",
       "      <th>6</th>\n",
       "      <td>5</td>\n",
       "      <td>1</td>\n",
       "      <td>1</td>\n",
       "      <td>2</td>\n",
       "      <td>Resto de la Ciudad</td>\n",
       "      <td>18</td>\n",
       "      <td>Mujer</td>\n",
       "      <td>Jefe</td>\n",
       "      <td>Soltero/a</td>\n",
       "      <td>Padre no vive en el hogar</td>\n",
       "      <td>...</td>\n",
       "      <td>8000</td>\n",
       "      <td>Asiste</td>\n",
       "      <td>Estatal/publico</td>\n",
       "      <td>Universitario</td>\n",
       "      <td>Otras escuelas especiales</td>\n",
       "      <td>12</td>\n",
       "      <td>PBA excepto GBA</td>\n",
       "      <td>Solo obra social</td>\n",
       "      <td>No</td>\n",
       "      <td>No corresponde</td>\n",
       "    </tr>\n",
       "    <tr>\n",
       "      <th>7</th>\n",
       "      <td>5</td>\n",
       "      <td>1</td>\n",
       "      <td>2</td>\n",
       "      <td>2</td>\n",
       "      <td>Resto de la Ciudad</td>\n",
       "      <td>22</td>\n",
       "      <td>Mujer</td>\n",
       "      <td>Otro familiar</td>\n",
       "      <td>Soltero/a</td>\n",
       "      <td>Padre no vive en el hogar</td>\n",
       "      <td>...</td>\n",
       "      <td>8000</td>\n",
       "      <td>Asiste</td>\n",
       "      <td>Estatal/publico</td>\n",
       "      <td>Universitario</td>\n",
       "      <td>Otras escuelas especiales</td>\n",
       "      <td>16</td>\n",
       "      <td>PBA excepto GBA</td>\n",
       "      <td>Solo obra social</td>\n",
       "      <td>No</td>\n",
       "      <td>No corresponde</td>\n",
       "    </tr>\n",
       "    <tr>\n",
       "      <th>8</th>\n",
       "      <td>6</td>\n",
       "      <td>1</td>\n",
       "      <td>1</td>\n",
       "      <td>7</td>\n",
       "      <td>Resto de la Ciudad</td>\n",
       "      <td>18</td>\n",
       "      <td>Mujer</td>\n",
       "      <td>Jefe</td>\n",
       "      <td>Soltero/a</td>\n",
       "      <td>Padre no vive en el hogar</td>\n",
       "      <td>...</td>\n",
       "      <td>7650</td>\n",
       "      <td>No asiste pero asistió</td>\n",
       "      <td>No corresponde</td>\n",
       "      <td>No corresponde</td>\n",
       "      <td>EGB (1° a 9° año)</td>\n",
       "      <td>9</td>\n",
       "      <td>Pais limitrofe</td>\n",
       "      <td>Solo sistema publico</td>\n",
       "      <td>No</td>\n",
       "      <td>No corresponde</td>\n",
       "    </tr>\n",
       "    <tr>\n",
       "      <th>9</th>\n",
       "      <td>6</td>\n",
       "      <td>1</td>\n",
       "      <td>2</td>\n",
       "      <td>7</td>\n",
       "      <td>Resto de la Ciudad</td>\n",
       "      <td>23</td>\n",
       "      <td>Mujer</td>\n",
       "      <td>Otro familiar</td>\n",
       "      <td>Soltero/a</td>\n",
       "      <td>Padre no vive en el hogar</td>\n",
       "      <td>...</td>\n",
       "      <td>7650</td>\n",
       "      <td>No asiste pero asistió</td>\n",
       "      <td>No corresponde</td>\n",
       "      <td>No corresponde</td>\n",
       "      <td>EGB (1° a 9° año)</td>\n",
       "      <td>11</td>\n",
       "      <td>Pais limitrofe</td>\n",
       "      <td>Solo sistema publico</td>\n",
       "      <td>Si</td>\n",
       "      <td>1</td>\n",
       "    </tr>\n",
       "  </tbody>\n",
       "</table>\n",
       "<p>10 rows × 31 columns</p>\n",
       "</div>"
      ],
      "text/plain": [
       "   id  nhogar  miembro  comuna               dominio  edad   sexo  \\\n",
       "0   1       1        1       8    Resto de la Ciudad    16  Varon   \n",
       "1   2       1        1       9  Villas de emergencia    18  Mujer   \n",
       "2   2       1        2       9  Villas de emergencia    37  Varon   \n",
       "3   2       1        3       9  Villas de emergencia     0  Varon   \n",
       "4   3       1        1       2    Resto de la Ciudad    18  Mujer   \n",
       "5   4       1        1       2    Resto de la Ciudad    18  Varon   \n",
       "6   5       1        1       2    Resto de la Ciudad    18  Mujer   \n",
       "7   5       1        2       2    Resto de la Ciudad    22  Mujer   \n",
       "8   6       1        1       7    Resto de la Ciudad    18  Mujer   \n",
       "9   6       1        2       7    Resto de la Ciudad    23  Mujer   \n",
       "\n",
       "       parentesco_jefe situacion_conyugal          num_miembro_padre  ...  \\\n",
       "0                 Jefe          Soltero/a  Padre no vive en el hogar  ...   \n",
       "1                 Jefe            Unido/a  Padre no vive en el hogar  ...   \n",
       "2        Otro familiar            Unido/a             No corresponde  ...   \n",
       "3  Hijo/a - Hijastro/a     No corresponde  Padre no vive en el hogar  ...   \n",
       "4                 Jefe          Soltero/a  Padre no vive en el hogar  ...   \n",
       "5                 Jefe          Soltero/a  Padre no vive en el hogar  ...   \n",
       "6                 Jefe          Soltero/a  Padre no vive en el hogar  ...   \n",
       "7        Otro familiar          Soltero/a  Padre no vive en el hogar  ...   \n",
       "8                 Jefe          Soltero/a  Padre no vive en el hogar  ...   \n",
       "9        Otro familiar          Soltero/a  Padre no vive en el hogar  ...   \n",
       "\n",
       "  ingreso_per_capita_familiar        estado_educativo      sector_educativo  \\\n",
       "0                        2000  No asiste pero asistió        No corresponde   \n",
       "1                        5833                  Asiste       Estatal/publico   \n",
       "2                        5833  No asiste pero asistió        No corresponde   \n",
       "3                        5833           Nunca asistio        No corresponde   \n",
       "4                        6000                  Asiste       Estatal/publico   \n",
       "5                       16500                  Asiste  Privado no religioso   \n",
       "6                        8000                  Asiste       Estatal/publico   \n",
       "7                        8000                  Asiste       Estatal/publico   \n",
       "8                        7650  No asiste pero asistió        No corresponde   \n",
       "9                        7650  No asiste pero asistió        No corresponde   \n",
       "\n",
       "               nivel_actual        nivel_max_educativo  \\\n",
       "0            No corresponde          EGB (1° a 9° año)   \n",
       "1  Secundario/medio adultos          EGB (1° a 9° año)   \n",
       "2            No corresponde                  Sala de 5   \n",
       "3            No corresponde                        NaN   \n",
       "4             Universitario  Otras escuelas especiales   \n",
       "5             Universitario  Otras escuelas especiales   \n",
       "6             Universitario  Otras escuelas especiales   \n",
       "7             Universitario  Otras escuelas especiales   \n",
       "8            No corresponde          EGB (1° a 9° año)   \n",
       "9            No corresponde          EGB (1° a 9° año)   \n",
       "\n",
       "                     años_escolaridad   lugar_nacimiento  \\\n",
       "0                                   7     Pais limitrofe   \n",
       "1                                   8               CABA   \n",
       "2                                   3               CABA   \n",
       "3  Ningun año de escolaridad aprobado               CABA   \n",
       "4                                  12    PBA excepto GBA   \n",
       "5                                  12  Pais no limitrofe   \n",
       "6                                  12    PBA excepto GBA   \n",
       "7                                  16    PBA excepto GBA   \n",
       "8                                   9     Pais limitrofe   \n",
       "9                                  11     Pais limitrofe   \n",
       "\n",
       "       afiliacion_salud  hijos_nacidos_vivos cantidad_hijos_nac_vivos  \n",
       "0  Solo sistema publico                  NaN           No corresponde  \n",
       "1  Solo sistema publico                   Si                        1  \n",
       "2  Solo sistema publico                  NaN           No corresponde  \n",
       "3  Solo sistema publico                  NaN           No corresponde  \n",
       "4      Solo obra social                   No           No corresponde  \n",
       "5  Solo sistema publico                  NaN           No corresponde  \n",
       "6      Solo obra social                   No           No corresponde  \n",
       "7      Solo obra social                   No           No corresponde  \n",
       "8  Solo sistema publico                   No           No corresponde  \n",
       "9  Solo sistema publico                   Si                        1  \n",
       "\n",
       "[10 rows x 31 columns]"
      ]
     },
     "execution_count": 2,
     "metadata": {},
     "output_type": "execute_result"
    }
   ],
   "source": [
    "dataframe = pd.read_csv('./encuesta-anual-hogares-2018.csv', encoding='latin1')\n",
    "dataframe.head(10)"
   ]
  },
  {
   "cell_type": "code",
   "execution_count": 3,
   "metadata": {},
   "outputs": [
    {
     "data": {
      "text/plain": [
       "Index(['id', 'nhogar', 'miembro', 'comuna', 'dominio', 'edad', 'sexo',\n",
       "       'parentesco_jefe', 'situacion_conyugal', 'num_miembro_padre',\n",
       "       'num_miembro_madre', 'estado_ocupacional', 'cat_ocupacional',\n",
       "       'calidad_ingresos_lab', 'ingreso_total_lab', 'calidad_ingresos_no_lab',\n",
       "       'ingreso_total_no_lab', 'calidad_ingresos_totales', 'ingresos_totales',\n",
       "       'calidad_ingresos_familiares', 'ingresos_familiares',\n",
       "       'ingreso_per_capita_familiar', 'estado_educativo', 'sector_educativo',\n",
       "       'nivel_actual', 'nivel_max_educativo', 'años_escolaridad',\n",
       "       'lugar_nacimiento', 'afiliacion_salud', 'hijos_nacidos_vivos',\n",
       "       'cantidad_hijos_nac_vivos'],\n",
       "      dtype='object')"
      ]
     },
     "execution_count": 3,
     "metadata": {},
     "output_type": "execute_result"
    }
   ],
   "source": [
    "dataframe.columns"
   ]
  },
  {
   "cell_type": "code",
   "execution_count": 4,
   "metadata": {},
   "outputs": [
    {
     "name": "stdout",
     "output_type": "stream",
     "text": [
      "<class 'pandas.core.frame.DataFrame'>\n",
      "RangeIndex: 14497 entries, 0 to 14496\n",
      "Data columns (total 31 columns):\n",
      " #   Column                       Non-Null Count  Dtype \n",
      "---  ------                       --------------  ----- \n",
      " 0   id                           14497 non-null  int64 \n",
      " 1   nhogar                       14497 non-null  int64 \n",
      " 2   miembro                      14497 non-null  int64 \n",
      " 3   comuna                       14497 non-null  int64 \n",
      " 4   dominio                      14497 non-null  object\n",
      " 5   edad                         14497 non-null  int64 \n",
      " 6   sexo                         14497 non-null  object\n",
      " 7   parentesco_jefe              14497 non-null  object\n",
      " 8   situacion_conyugal           14496 non-null  object\n",
      " 9   num_miembro_padre            14497 non-null  object\n",
      " 10  num_miembro_madre            14497 non-null  object\n",
      " 11  estado_ocupacional           14497 non-null  object\n",
      " 12  cat_ocupacional              14497 non-null  object\n",
      " 13  calidad_ingresos_lab         14497 non-null  object\n",
      " 14  ingreso_total_lab            14497 non-null  int64 \n",
      " 15  calidad_ingresos_no_lab      14497 non-null  object\n",
      " 16  ingreso_total_no_lab         14497 non-null  int64 \n",
      " 17  calidad_ingresos_totales     14497 non-null  object\n",
      " 18  ingresos_totales             14497 non-null  int64 \n",
      " 19  calidad_ingresos_familiares  14497 non-null  object\n",
      " 20  ingresos_familiares          14497 non-null  int64 \n",
      " 21  ingreso_per_capita_familiar  14497 non-null  int64 \n",
      " 22  estado_educativo             14497 non-null  object\n",
      " 23  sector_educativo             14495 non-null  object\n",
      " 24  nivel_actual                 14497 non-null  object\n",
      " 25  nivel_max_educativo          13388 non-null  object\n",
      " 26  años_escolaridad             14412 non-null  object\n",
      " 27  lugar_nacimiento             14496 non-null  object\n",
      " 28  afiliacion_salud             14496 non-null  object\n",
      " 29  hijos_nacidos_vivos          6519 non-null   object\n",
      " 30  cantidad_hijos_nac_vivos     14495 non-null  object\n",
      "dtypes: int64(10), object(21)\n",
      "memory usage: 3.4+ MB\n"
     ]
    }
   ],
   "source": [
    "dataframe.info()"
   ]
  },
  {
   "cell_type": "markdown",
   "metadata": {},
   "source": [
    "# Reemplazo de valores faltantes"
   ]
  },
  {
   "cell_type": "code",
   "execution_count": 5,
   "metadata": {},
   "outputs": [
    {
     "name": "stdout",
     "output_type": "stream",
     "text": [
      "Columnas con nan: situacion_conyugal, sector_educativo, nivel_max_educativo, años_escolaridad, lugar_nacimiento, afiliacion_salud, hijos_nacidos_vivos, cantidad_hijos_nac_vivos\n"
     ]
    }
   ],
   "source": [
    "columnas_val_faltantes = dataframe.columns[dataframe.isnull().any()].tolist()\n",
    "\n",
    "# Print the columns with NaN values\n",
    "if columnas_val_faltantes:\n",
    "    print(f\"Columnas con nan: {', '.join(columnas_val_faltantes)}\")\n",
    "else:\n",
    "    print(\"clean\")"
   ]
  },
  {
   "cell_type": "markdown",
   "metadata": {},
   "source": [
    "# cantidad_hijos_nac_vivos"
   ]
  },
  {
   "cell_type": "code",
   "execution_count": 6,
   "metadata": {},
   "outputs": [
    {
     "data": {
      "text/html": [
       "<div>\n",
       "<style scoped>\n",
       "    .dataframe tbody tr th:only-of-type {\n",
       "        vertical-align: middle;\n",
       "    }\n",
       "\n",
       "    .dataframe tbody tr th {\n",
       "        vertical-align: top;\n",
       "    }\n",
       "\n",
       "    .dataframe thead th {\n",
       "        text-align: right;\n",
       "    }\n",
       "</style>\n",
       "<table border=\"1\" class=\"dataframe\">\n",
       "  <thead>\n",
       "    <tr style=\"text-align: right;\">\n",
       "      <th></th>\n",
       "      <th>id</th>\n",
       "      <th>nhogar</th>\n",
       "      <th>miembro</th>\n",
       "      <th>comuna</th>\n",
       "      <th>dominio</th>\n",
       "      <th>edad</th>\n",
       "      <th>sexo</th>\n",
       "      <th>parentesco_jefe</th>\n",
       "      <th>situacion_conyugal</th>\n",
       "      <th>num_miembro_padre</th>\n",
       "      <th>...</th>\n",
       "      <th>ingreso_per_capita_familiar</th>\n",
       "      <th>estado_educativo</th>\n",
       "      <th>sector_educativo</th>\n",
       "      <th>nivel_actual</th>\n",
       "      <th>nivel_max_educativo</th>\n",
       "      <th>años_escolaridad</th>\n",
       "      <th>lugar_nacimiento</th>\n",
       "      <th>afiliacion_salud</th>\n",
       "      <th>hijos_nacidos_vivos</th>\n",
       "      <th>cantidad_hijos_nac_vivos</th>\n",
       "    </tr>\n",
       "  </thead>\n",
       "  <tbody>\n",
       "    <tr>\n",
       "      <th>12861</th>\n",
       "      <td>4857</td>\n",
       "      <td>1</td>\n",
       "      <td>2</td>\n",
       "      <td>4</td>\n",
       "      <td>Resto de la Ciudad</td>\n",
       "      <td>71</td>\n",
       "      <td>Mujer</td>\n",
       "      <td>Otro familiar</td>\n",
       "      <td>Soltero/a</td>\n",
       "      <td>No corresponde</td>\n",
       "      <td>...</td>\n",
       "      <td>8300</td>\n",
       "      <td>No asiste pero asistió</td>\n",
       "      <td>No corresponde</td>\n",
       "      <td>No corresponde</td>\n",
       "      <td>Primario especial</td>\n",
       "      <td>12</td>\n",
       "      <td>Partido GBA</td>\n",
       "      <td>Solo obra social</td>\n",
       "      <td>No</td>\n",
       "      <td>NaN</td>\n",
       "    </tr>\n",
       "    <tr>\n",
       "      <th>14415</th>\n",
       "      <td>5773</td>\n",
       "      <td>1</td>\n",
       "      <td>1</td>\n",
       "      <td>14</td>\n",
       "      <td>Resto de la Ciudad</td>\n",
       "      <td>91</td>\n",
       "      <td>Mujer</td>\n",
       "      <td>Jefe</td>\n",
       "      <td>Soltero/a</td>\n",
       "      <td>No corresponde</td>\n",
       "      <td>...</td>\n",
       "      <td>12000</td>\n",
       "      <td>No asiste pero asistió</td>\n",
       "      <td>No corresponde</td>\n",
       "      <td>No corresponde</td>\n",
       "      <td>Primario especial</td>\n",
       "      <td>12</td>\n",
       "      <td>CABA</td>\n",
       "      <td>Otros</td>\n",
       "      <td>Si</td>\n",
       "      <td>NaN</td>\n",
       "    </tr>\n",
       "  </tbody>\n",
       "</table>\n",
       "<p>2 rows × 31 columns</p>\n",
       "</div>"
      ],
      "text/plain": [
       "         id  nhogar  miembro  comuna             dominio  edad   sexo  \\\n",
       "12861  4857       1        2       4  Resto de la Ciudad    71  Mujer   \n",
       "14415  5773       1        1      14  Resto de la Ciudad    91  Mujer   \n",
       "\n",
       "      parentesco_jefe situacion_conyugal num_miembro_padre  ...  \\\n",
       "12861   Otro familiar          Soltero/a    No corresponde  ...   \n",
       "14415            Jefe          Soltero/a    No corresponde  ...   \n",
       "\n",
       "      ingreso_per_capita_familiar        estado_educativo sector_educativo  \\\n",
       "12861                        8300  No asiste pero asistió   No corresponde   \n",
       "14415                       12000  No asiste pero asistió   No corresponde   \n",
       "\n",
       "         nivel_actual  nivel_max_educativo años_escolaridad  lugar_nacimiento  \\\n",
       "12861  No corresponde    Primario especial               12       Partido GBA   \n",
       "14415  No corresponde    Primario especial               12              CABA   \n",
       "\n",
       "       afiliacion_salud  hijos_nacidos_vivos cantidad_hijos_nac_vivos  \n",
       "12861  Solo obra social                   No                      NaN  \n",
       "14415             Otros                   Si                      NaN  \n",
       "\n",
       "[2 rows x 31 columns]"
      ]
     },
     "execution_count": 6,
     "metadata": {},
     "output_type": "execute_result"
    }
   ],
   "source": [
    "dataframe[dataframe['cantidad_hijos_nac_vivos'].isna()]"
   ]
  },
  {
   "cell_type": "code",
   "execution_count": 7,
   "metadata": {},
   "outputs": [],
   "source": [
    "dataframe[dataframe['hijos_nacidos_vivos'].isna()]\n",
    "dataframe['hijos_nacidos_vivos'] = dataframe['hijos_nacidos_vivos'].fillna('No')"
   ]
  },
  {
   "cell_type": "code",
   "execution_count": 8,
   "metadata": {},
   "outputs": [],
   "source": [
    "reemplazo = {\"No corresponde\": 0}\n",
    "dataframe['cantidad_hijos_nac_vivos'] = dataframe['cantidad_hijos_nac_vivos'].replace(reemplazo)\n",
    "dataframe['cantidad_hijos_nac_vivos'] = dataframe['cantidad_hijos_nac_vivos'].fillna(0)\n",
    "dataframe['cantidad_hijos_nac_vivos'] = dataframe['cantidad_hijos_nac_vivos'].astype(int)"
   ]
  },
  {
   "cell_type": "markdown",
   "metadata": {},
   "source": [
    "# Situacion conyugal"
   ]
  },
  {
   "cell_type": "code",
   "execution_count": 9,
   "metadata": {},
   "outputs": [
    {
     "data": {
      "text/plain": [
       "array(['Soltero/a', 'Unido/a', 'No corresponde',\n",
       "       'Separado/a de unión o matrimonio', 'Casado/a', 'Viudo/a',\n",
       "       'Divorciado/a', nan], dtype=object)"
      ]
     },
     "execution_count": 9,
     "metadata": {},
     "output_type": "execute_result"
    }
   ],
   "source": [
    "dataframe['situacion_conyugal'].unique()"
   ]
  },
  {
   "cell_type": "code",
   "execution_count": 10,
   "metadata": {},
   "outputs": [
    {
     "data": {
      "text/plain": [
       "situacion_conyugal\n",
       "Casado/a                            3643\n",
       "Soltero/a                           3431\n",
       "No corresponde                      2516\n",
       "Unido/a                             2479\n",
       "Separado/a de unión o matrimonio    1132\n",
       "Viudo/a                              790\n",
       "Divorciado/a                         505\n",
       "Name: count, dtype: int64"
      ]
     },
     "execution_count": 10,
     "metadata": {},
     "output_type": "execute_result"
    }
   ],
   "source": [
    "dataframe['situacion_conyugal'].value_counts()"
   ]
  },
  {
   "cell_type": "code",
   "execution_count": 11,
   "metadata": {},
   "outputs": [],
   "source": [
    "dataframe['situacion_conyugal'] = dataframe['situacion_conyugal'].fillna('No corresponde')"
   ]
  },
  {
   "cell_type": "markdown",
   "metadata": {},
   "source": [
    "# Sector educativo"
   ]
  },
  {
   "cell_type": "code",
   "execution_count": 12,
   "metadata": {},
   "outputs": [
    {
     "data": {
      "text/plain": [
       "array(['No corresponde', 'Estatal/publico', 'Privado no religioso',\n",
       "       'Privado religioso', nan], dtype=object)"
      ]
     },
     "execution_count": 12,
     "metadata": {},
     "output_type": "execute_result"
    }
   ],
   "source": [
    "dataframe['sector_educativo'].unique()"
   ]
  },
  {
   "cell_type": "code",
   "execution_count": 13,
   "metadata": {},
   "outputs": [
    {
     "data": {
      "text/plain": [
       "sector_educativo\n",
       "No corresponde          10114\n",
       "Estatal/publico          2664\n",
       "Privado religioso         943\n",
       "Privado no religioso      774\n",
       "Name: count, dtype: int64"
      ]
     },
     "execution_count": 13,
     "metadata": {},
     "output_type": "execute_result"
    }
   ],
   "source": [
    "dataframe['sector_educativo'].value_counts()"
   ]
  },
  {
   "cell_type": "code",
   "execution_count": 14,
   "metadata": {},
   "outputs": [],
   "source": [
    "dataframe['sector_educativo'] = dataframe['sector_educativo'].fillna('No corresponde')"
   ]
  },
  {
   "cell_type": "markdown",
   "metadata": {},
   "source": [
    "# nivel_max_educativo\n",
    "este es el que tendria que ver porque le faltan 1000 valores aprox"
   ]
  },
  {
   "cell_type": "code",
   "execution_count": 15,
   "metadata": {},
   "outputs": [
    {
     "data": {
      "text/plain": [
       "array(['EGB (1° a 9° año)', 'Sala de 5', nan, 'Otras escuelas especiales',\n",
       "       'Primario especial', 'Primario comun', 'Secundario/medio comun',\n",
       "       'No corresponde'], dtype=object)"
      ]
     },
     "execution_count": 15,
     "metadata": {},
     "output_type": "execute_result"
    }
   ],
   "source": [
    "dataframe['nivel_max_educativo'].unique()"
   ]
  },
  {
   "cell_type": "code",
   "execution_count": 16,
   "metadata": {},
   "outputs": [
    {
     "data": {
      "text/plain": [
       "nivel_max_educativo\n",
       "Secundario/medio comun       3521\n",
       "Otras escuelas especiales    2587\n",
       "Primario especial            2316\n",
       "EGB (1° a 9° año)            2224\n",
       "Sala de 5                    1656\n",
       "Primario comun               1024\n",
       "No corresponde                 60\n",
       "Name: count, dtype: int64"
      ]
     },
     "execution_count": 16,
     "metadata": {},
     "output_type": "execute_result"
    }
   ],
   "source": [
    "dataframe['nivel_max_educativo'].value_counts()"
   ]
  },
  {
   "cell_type": "code",
   "execution_count": 17,
   "metadata": {},
   "outputs": [
    {
     "data": {
      "text/plain": [
       "1109"
      ]
     },
     "execution_count": 17,
     "metadata": {},
     "output_type": "execute_result"
    }
   ],
   "source": [
    "dataframe['nivel_max_educativo'].isna().sum()"
   ]
  },
  {
   "cell_type": "code",
   "execution_count": 18,
   "metadata": {},
   "outputs": [],
   "source": [
    "dataframe['nivel_max_educativo'] = dataframe['nivel_max_educativo'].fillna('Secundario/medio comun')"
   ]
  },
  {
   "cell_type": "markdown",
   "metadata": {},
   "source": [
    "# años_escolaridad \n"
   ]
  },
  {
   "cell_type": "code",
   "execution_count": 19,
   "metadata": {},
   "outputs": [],
   "source": [
    "dataframe['años_escolaridad'] = dataframe['años_escolaridad'].replace(\"Ningun año de escolaridad aprobado\", 0)"
   ]
  },
  {
   "cell_type": "code",
   "execution_count": 20,
   "metadata": {},
   "outputs": [
    {
     "data": {
      "text/plain": [
       "array(['7', '8', '3', 0, '12', '16', '9', '11', '15', '14', '13', '5',\n",
       "       '10', '17', '4', '1', '19', '6', '18', '2', nan], dtype=object)"
      ]
     },
     "execution_count": 20,
     "metadata": {},
     "output_type": "execute_result"
    }
   ],
   "source": [
    "dataframe['años_escolaridad'].unique()"
   ]
  },
  {
   "cell_type": "code",
   "execution_count": 21,
   "metadata": {},
   "outputs": [
    {
     "data": {
      "text/plain": [
       "años_escolaridad\n",
       "12    2900\n",
       "17    1801\n",
       "15    1478\n",
       "7     1301\n",
       "0     1280\n",
       "14     784\n",
       "10     557\n",
       "9      508\n",
       "13     489\n",
       "19     486\n",
       "11     440\n",
       "8      431\n",
       "16     325\n",
       "3      271\n",
       "6      266\n",
       "5      256\n",
       "2      244\n",
       "4      235\n",
       "1      210\n",
       "18     150\n",
       "Name: count, dtype: int64"
      ]
     },
     "execution_count": 21,
     "metadata": {},
     "output_type": "execute_result"
    }
   ],
   "source": [
    "dataframe['años_escolaridad'].value_counts()"
   ]
  },
  {
   "cell_type": "code",
   "execution_count": 22,
   "metadata": {},
   "outputs": [
    {
     "data": {
      "text/plain": [
       "85"
      ]
     },
     "execution_count": 22,
     "metadata": {},
     "output_type": "execute_result"
    }
   ],
   "source": [
    "dataframe['años_escolaridad'].isna().sum()"
   ]
  },
  {
   "cell_type": "code",
   "execution_count": 23,
   "metadata": {},
   "outputs": [],
   "source": [
    "dataframe['años_escolaridad'] = dataframe['años_escolaridad'].fillna(12)\n",
    "dataframe['años_escolaridad'] = dataframe['años_escolaridad'].astype(int)"
   ]
  },
  {
   "cell_type": "markdown",
   "metadata": {},
   "source": [
    "# lugar_nacimiento"
   ]
  },
  {
   "cell_type": "code",
   "execution_count": 24,
   "metadata": {},
   "outputs": [
    {
     "data": {
      "text/plain": [
       "array(['Pais limitrofe', 'CABA', 'PBA excepto GBA', 'Pais no limitrofe',\n",
       "       'Otra provincia', 'Partido GBA', 'PBA sin especificar', nan],\n",
       "      dtype=object)"
      ]
     },
     "execution_count": 24,
     "metadata": {},
     "output_type": "execute_result"
    }
   ],
   "source": [
    "dataframe['lugar_nacimiento'].unique()"
   ]
  },
  {
   "cell_type": "code",
   "execution_count": 25,
   "metadata": {},
   "outputs": [
    {
     "data": {
      "text/plain": [
       "lugar_nacimiento\n",
       "CABA                   8847\n",
       "Otra provincia         1621\n",
       "Pais limitrofe         1336\n",
       "Partido GBA            1057\n",
       "Pais no limitrofe      1046\n",
       "PBA excepto GBA         581\n",
       "PBA sin especificar       8\n",
       "Name: count, dtype: int64"
      ]
     },
     "execution_count": 25,
     "metadata": {},
     "output_type": "execute_result"
    }
   ],
   "source": [
    "dataframe['lugar_nacimiento'].value_counts()"
   ]
  },
  {
   "cell_type": "code",
   "execution_count": 26,
   "metadata": {},
   "outputs": [
    {
     "data": {
      "text/plain": [
       "1"
      ]
     },
     "execution_count": 26,
     "metadata": {},
     "output_type": "execute_result"
    }
   ],
   "source": [
    "dataframe['lugar_nacimiento'].isna().sum()"
   ]
  },
  {
   "cell_type": "code",
   "execution_count": 27,
   "metadata": {},
   "outputs": [],
   "source": [
    "dataframe['lugar_nacimiento'] = dataframe['lugar_nacimiento'].fillna('PBA sin especificar')"
   ]
  },
  {
   "cell_type": "markdown",
   "metadata": {},
   "source": [
    "# afiliacion_salud\n"
   ]
  },
  {
   "cell_type": "code",
   "execution_count": 28,
   "metadata": {},
   "outputs": [
    {
     "data": {
      "text/plain": [
       "array(['Solo sistema publico', 'Solo obra social',\n",
       "       'Solo plan de medicina prepaga por contratación voluntaria',\n",
       "       'Solo prepaga o mutual via OS', 'Otros', nan], dtype=object)"
      ]
     },
     "execution_count": 28,
     "metadata": {},
     "output_type": "execute_result"
    }
   ],
   "source": [
    "dataframe['afiliacion_salud'].unique()"
   ]
  },
  {
   "cell_type": "code",
   "execution_count": 29,
   "metadata": {},
   "outputs": [
    {
     "data": {
      "text/plain": [
       "afiliacion_salud\n",
       "Solo obra social                                             6697\n",
       "Solo sistema publico                                         3254\n",
       "Solo prepaga o mutual via OS                                 2336\n",
       "Solo plan de medicina prepaga por contratación voluntaria    1256\n",
       "Otros                                                         953\n",
       "Name: count, dtype: int64"
      ]
     },
     "execution_count": 29,
     "metadata": {},
     "output_type": "execute_result"
    }
   ],
   "source": [
    "dataframe['afiliacion_salud'].value_counts()"
   ]
  },
  {
   "cell_type": "code",
   "execution_count": 30,
   "metadata": {},
   "outputs": [
    {
     "data": {
      "text/plain": [
       "1"
      ]
     },
     "execution_count": 30,
     "metadata": {},
     "output_type": "execute_result"
    }
   ],
   "source": [
    "dataframe['afiliacion_salud'].isna().sum()"
   ]
  },
  {
   "cell_type": "code",
   "execution_count": 31,
   "metadata": {},
   "outputs": [],
   "source": [
    "dataframe['afiliacion_salud'] = dataframe['afiliacion_salud'].fillna('Solo obra social')"
   ]
  },
  {
   "cell_type": "markdown",
   "metadata": {},
   "source": [
    "# Analisis de datos"
   ]
  },
  {
   "cell_type": "code",
   "execution_count": 32,
   "metadata": {},
   "outputs": [
    {
     "data": {
      "text/html": [
       "<div>\n",
       "<style scoped>\n",
       "    .dataframe tbody tr th:only-of-type {\n",
       "        vertical-align: middle;\n",
       "    }\n",
       "\n",
       "    .dataframe tbody tr th {\n",
       "        vertical-align: top;\n",
       "    }\n",
       "\n",
       "    .dataframe thead th {\n",
       "        text-align: right;\n",
       "    }\n",
       "</style>\n",
       "<table border=\"1\" class=\"dataframe\">\n",
       "  <thead>\n",
       "    <tr style=\"text-align: right;\">\n",
       "      <th></th>\n",
       "      <th>id</th>\n",
       "      <th>nhogar</th>\n",
       "      <th>miembro</th>\n",
       "      <th>comuna</th>\n",
       "      <th>dominio</th>\n",
       "      <th>edad</th>\n",
       "      <th>sexo</th>\n",
       "      <th>parentesco_jefe</th>\n",
       "      <th>situacion_conyugal</th>\n",
       "      <th>num_miembro_padre</th>\n",
       "      <th>...</th>\n",
       "      <th>ingreso_per_capita_familiar</th>\n",
       "      <th>estado_educativo</th>\n",
       "      <th>sector_educativo</th>\n",
       "      <th>nivel_actual</th>\n",
       "      <th>nivel_max_educativo</th>\n",
       "      <th>años_escolaridad</th>\n",
       "      <th>lugar_nacimiento</th>\n",
       "      <th>afiliacion_salud</th>\n",
       "      <th>hijos_nacidos_vivos</th>\n",
       "      <th>cantidad_hijos_nac_vivos</th>\n",
       "    </tr>\n",
       "  </thead>\n",
       "  <tbody>\n",
       "    <tr>\n",
       "      <th>0</th>\n",
       "      <td>1</td>\n",
       "      <td>1</td>\n",
       "      <td>1</td>\n",
       "      <td>8</td>\n",
       "      <td>Resto de la Ciudad</td>\n",
       "      <td>16</td>\n",
       "      <td>Varon</td>\n",
       "      <td>Jefe</td>\n",
       "      <td>Soltero/a</td>\n",
       "      <td>Padre no vive en el hogar</td>\n",
       "      <td>...</td>\n",
       "      <td>2000</td>\n",
       "      <td>No asiste pero asistió</td>\n",
       "      <td>No corresponde</td>\n",
       "      <td>No corresponde</td>\n",
       "      <td>EGB (1° a 9° año)</td>\n",
       "      <td>7</td>\n",
       "      <td>Pais limitrofe</td>\n",
       "      <td>Solo sistema publico</td>\n",
       "      <td>No</td>\n",
       "      <td>0</td>\n",
       "    </tr>\n",
       "    <tr>\n",
       "      <th>1</th>\n",
       "      <td>2</td>\n",
       "      <td>1</td>\n",
       "      <td>1</td>\n",
       "      <td>9</td>\n",
       "      <td>Villas de emergencia</td>\n",
       "      <td>18</td>\n",
       "      <td>Mujer</td>\n",
       "      <td>Jefe</td>\n",
       "      <td>Unido/a</td>\n",
       "      <td>Padre no vive en el hogar</td>\n",
       "      <td>...</td>\n",
       "      <td>5833</td>\n",
       "      <td>Asiste</td>\n",
       "      <td>Estatal/publico</td>\n",
       "      <td>Secundario/medio adultos</td>\n",
       "      <td>EGB (1° a 9° año)</td>\n",
       "      <td>8</td>\n",
       "      <td>CABA</td>\n",
       "      <td>Solo sistema publico</td>\n",
       "      <td>Si</td>\n",
       "      <td>1</td>\n",
       "    </tr>\n",
       "    <tr>\n",
       "      <th>2</th>\n",
       "      <td>2</td>\n",
       "      <td>1</td>\n",
       "      <td>2</td>\n",
       "      <td>9</td>\n",
       "      <td>Villas de emergencia</td>\n",
       "      <td>37</td>\n",
       "      <td>Varon</td>\n",
       "      <td>Otro familiar</td>\n",
       "      <td>Unido/a</td>\n",
       "      <td>No corresponde</td>\n",
       "      <td>...</td>\n",
       "      <td>5833</td>\n",
       "      <td>No asiste pero asistió</td>\n",
       "      <td>No corresponde</td>\n",
       "      <td>No corresponde</td>\n",
       "      <td>Sala de 5</td>\n",
       "      <td>3</td>\n",
       "      <td>CABA</td>\n",
       "      <td>Solo sistema publico</td>\n",
       "      <td>No</td>\n",
       "      <td>0</td>\n",
       "    </tr>\n",
       "    <tr>\n",
       "      <th>3</th>\n",
       "      <td>2</td>\n",
       "      <td>1</td>\n",
       "      <td>3</td>\n",
       "      <td>9</td>\n",
       "      <td>Villas de emergencia</td>\n",
       "      <td>0</td>\n",
       "      <td>Varon</td>\n",
       "      <td>Hijo/a - Hijastro/a</td>\n",
       "      <td>No corresponde</td>\n",
       "      <td>Padre no vive en el hogar</td>\n",
       "      <td>...</td>\n",
       "      <td>5833</td>\n",
       "      <td>Nunca asistio</td>\n",
       "      <td>No corresponde</td>\n",
       "      <td>No corresponde</td>\n",
       "      <td>Secundario/medio comun</td>\n",
       "      <td>0</td>\n",
       "      <td>CABA</td>\n",
       "      <td>Solo sistema publico</td>\n",
       "      <td>No</td>\n",
       "      <td>0</td>\n",
       "    </tr>\n",
       "    <tr>\n",
       "      <th>4</th>\n",
       "      <td>3</td>\n",
       "      <td>1</td>\n",
       "      <td>1</td>\n",
       "      <td>2</td>\n",
       "      <td>Resto de la Ciudad</td>\n",
       "      <td>18</td>\n",
       "      <td>Mujer</td>\n",
       "      <td>Jefe</td>\n",
       "      <td>Soltero/a</td>\n",
       "      <td>Padre no vive en el hogar</td>\n",
       "      <td>...</td>\n",
       "      <td>6000</td>\n",
       "      <td>Asiste</td>\n",
       "      <td>Estatal/publico</td>\n",
       "      <td>Universitario</td>\n",
       "      <td>Otras escuelas especiales</td>\n",
       "      <td>12</td>\n",
       "      <td>PBA excepto GBA</td>\n",
       "      <td>Solo obra social</td>\n",
       "      <td>No</td>\n",
       "      <td>0</td>\n",
       "    </tr>\n",
       "  </tbody>\n",
       "</table>\n",
       "<p>5 rows × 31 columns</p>\n",
       "</div>"
      ],
      "text/plain": [
       "   id  nhogar  miembro  comuna               dominio  edad   sexo  \\\n",
       "0   1       1        1       8    Resto de la Ciudad    16  Varon   \n",
       "1   2       1        1       9  Villas de emergencia    18  Mujer   \n",
       "2   2       1        2       9  Villas de emergencia    37  Varon   \n",
       "3   2       1        3       9  Villas de emergencia     0  Varon   \n",
       "4   3       1        1       2    Resto de la Ciudad    18  Mujer   \n",
       "\n",
       "       parentesco_jefe situacion_conyugal          num_miembro_padre  ...  \\\n",
       "0                 Jefe          Soltero/a  Padre no vive en el hogar  ...   \n",
       "1                 Jefe            Unido/a  Padre no vive en el hogar  ...   \n",
       "2        Otro familiar            Unido/a             No corresponde  ...   \n",
       "3  Hijo/a - Hijastro/a     No corresponde  Padre no vive en el hogar  ...   \n",
       "4                 Jefe          Soltero/a  Padre no vive en el hogar  ...   \n",
       "\n",
       "  ingreso_per_capita_familiar        estado_educativo sector_educativo  \\\n",
       "0                        2000  No asiste pero asistió   No corresponde   \n",
       "1                        5833                  Asiste  Estatal/publico   \n",
       "2                        5833  No asiste pero asistió   No corresponde   \n",
       "3                        5833           Nunca asistio   No corresponde   \n",
       "4                        6000                  Asiste  Estatal/publico   \n",
       "\n",
       "               nivel_actual        nivel_max_educativo años_escolaridad  \\\n",
       "0            No corresponde          EGB (1° a 9° año)                7   \n",
       "1  Secundario/medio adultos          EGB (1° a 9° año)                8   \n",
       "2            No corresponde                  Sala de 5                3   \n",
       "3            No corresponde     Secundario/medio comun                0   \n",
       "4             Universitario  Otras escuelas especiales               12   \n",
       "\n",
       "   lugar_nacimiento      afiliacion_salud  hijos_nacidos_vivos  \\\n",
       "0    Pais limitrofe  Solo sistema publico                   No   \n",
       "1              CABA  Solo sistema publico                   Si   \n",
       "2              CABA  Solo sistema publico                   No   \n",
       "3              CABA  Solo sistema publico                   No   \n",
       "4   PBA excepto GBA      Solo obra social                   No   \n",
       "\n",
       "  cantidad_hijos_nac_vivos  \n",
       "0                        0  \n",
       "1                        1  \n",
       "2                        0  \n",
       "3                        0  \n",
       "4                        0  \n",
       "\n",
       "[5 rows x 31 columns]"
      ]
     },
     "execution_count": 32,
     "metadata": {},
     "output_type": "execute_result"
    }
   ],
   "source": [
    "dataframe.head()"
   ]
  },
  {
   "cell_type": "code",
   "execution_count": 33,
   "metadata": {},
   "outputs": [
    {
     "data": {
      "text/html": [
       "<div>\n",
       "<style scoped>\n",
       "    .dataframe tbody tr th:only-of-type {\n",
       "        vertical-align: middle;\n",
       "    }\n",
       "\n",
       "    .dataframe tbody tr th {\n",
       "        vertical-align: top;\n",
       "    }\n",
       "\n",
       "    .dataframe thead th {\n",
       "        text-align: right;\n",
       "    }\n",
       "</style>\n",
       "<table border=\"1\" class=\"dataframe\">\n",
       "  <thead>\n",
       "    <tr style=\"text-align: right;\">\n",
       "      <th></th>\n",
       "      <th>id</th>\n",
       "      <th>nhogar</th>\n",
       "      <th>miembro</th>\n",
       "      <th>comuna</th>\n",
       "      <th>edad</th>\n",
       "      <th>ingreso_total_lab</th>\n",
       "      <th>ingreso_total_no_lab</th>\n",
       "      <th>ingresos_totales</th>\n",
       "      <th>ingresos_familiares</th>\n",
       "      <th>ingreso_per_capita_familiar</th>\n",
       "      <th>años_escolaridad</th>\n",
       "      <th>cantidad_hijos_nac_vivos</th>\n",
       "    </tr>\n",
       "  </thead>\n",
       "  <tbody>\n",
       "    <tr>\n",
       "      <th>count</th>\n",
       "      <td>14497.000000</td>\n",
       "      <td>14497.000000</td>\n",
       "      <td>14497.000000</td>\n",
       "      <td>14497.000000</td>\n",
       "      <td>14497.000000</td>\n",
       "      <td>14497.000000</td>\n",
       "      <td>14497.000000</td>\n",
       "      <td>14497.000000</td>\n",
       "      <td>14497.000000</td>\n",
       "      <td>14497.000000</td>\n",
       "      <td>14497.000000</td>\n",
       "      <td>14497.000000</td>\n",
       "    </tr>\n",
       "    <tr>\n",
       "      <th>mean</th>\n",
       "      <td>2711.899358</td>\n",
       "      <td>1.009657</td>\n",
       "      <td>2.147755</td>\n",
       "      <td>7.512313</td>\n",
       "      <td>38.644271</td>\n",
       "      <td>13256.470235</td>\n",
       "      <td>4153.135614</td>\n",
       "      <td>17409.605849</td>\n",
       "      <td>47506.769470</td>\n",
       "      <td>17476.569566</td>\n",
       "      <td>10.756570</td>\n",
       "      <td>0.633510</td>\n",
       "    </tr>\n",
       "    <tr>\n",
       "      <th>std</th>\n",
       "      <td>1538.701773</td>\n",
       "      <td>0.105272</td>\n",
       "      <td>1.315227</td>\n",
       "      <td>4.260910</td>\n",
       "      <td>23.187620</td>\n",
       "      <td>21670.418311</td>\n",
       "      <td>11309.867813</td>\n",
       "      <td>23484.303382</td>\n",
       "      <td>40731.618273</td>\n",
       "      <td>16656.798805</td>\n",
       "      <td>5.343176</td>\n",
       "      <td>1.220509</td>\n",
       "    </tr>\n",
       "    <tr>\n",
       "      <th>min</th>\n",
       "      <td>1.000000</td>\n",
       "      <td>1.000000</td>\n",
       "      <td>1.000000</td>\n",
       "      <td>1.000000</td>\n",
       "      <td>0.000000</td>\n",
       "      <td>0.000000</td>\n",
       "      <td>0.000000</td>\n",
       "      <td>0.000000</td>\n",
       "      <td>0.000000</td>\n",
       "      <td>0.000000</td>\n",
       "      <td>0.000000</td>\n",
       "      <td>0.000000</td>\n",
       "    </tr>\n",
       "    <tr>\n",
       "      <th>25%</th>\n",
       "      <td>1476.000000</td>\n",
       "      <td>1.000000</td>\n",
       "      <td>1.000000</td>\n",
       "      <td>4.000000</td>\n",
       "      <td>20.000000</td>\n",
       "      <td>0.000000</td>\n",
       "      <td>0.000000</td>\n",
       "      <td>0.000000</td>\n",
       "      <td>20200.000000</td>\n",
       "      <td>7250.000000</td>\n",
       "      <td>7.000000</td>\n",
       "      <td>0.000000</td>\n",
       "    </tr>\n",
       "    <tr>\n",
       "      <th>50%</th>\n",
       "      <td>2598.000000</td>\n",
       "      <td>1.000000</td>\n",
       "      <td>2.000000</td>\n",
       "      <td>8.000000</td>\n",
       "      <td>37.000000</td>\n",
       "      <td>500.000000</td>\n",
       "      <td>0.000000</td>\n",
       "      <td>10500.000000</td>\n",
       "      <td>37000.000000</td>\n",
       "      <td>13300.000000</td>\n",
       "      <td>12.000000</td>\n",
       "      <td>0.000000</td>\n",
       "    </tr>\n",
       "    <tr>\n",
       "      <th>75%</th>\n",
       "      <td>3898.000000</td>\n",
       "      <td>1.000000</td>\n",
       "      <td>3.000000</td>\n",
       "      <td>11.000000</td>\n",
       "      <td>57.000000</td>\n",
       "      <td>20000.000000</td>\n",
       "      <td>4000.000000</td>\n",
       "      <td>25000.000000</td>\n",
       "      <td>61000.000000</td>\n",
       "      <td>22500.000000</td>\n",
       "      <td>15.000000</td>\n",
       "      <td>1.000000</td>\n",
       "    </tr>\n",
       "    <tr>\n",
       "      <th>max</th>\n",
       "      <td>5826.000000</td>\n",
       "      <td>4.000000</td>\n",
       "      <td>13.000000</td>\n",
       "      <td>15.000000</td>\n",
       "      <td>99.000000</td>\n",
       "      <td>400000.000000</td>\n",
       "      <td>319000.000000</td>\n",
       "      <td>416000.000000</td>\n",
       "      <td>450000.000000</td>\n",
       "      <td>335000.000000</td>\n",
       "      <td>19.000000</td>\n",
       "      <td>14.000000</td>\n",
       "    </tr>\n",
       "  </tbody>\n",
       "</table>\n",
       "</div>"
      ],
      "text/plain": [
       "                 id        nhogar       miembro        comuna          edad  \\\n",
       "count  14497.000000  14497.000000  14497.000000  14497.000000  14497.000000   \n",
       "mean    2711.899358      1.009657      2.147755      7.512313     38.644271   \n",
       "std     1538.701773      0.105272      1.315227      4.260910     23.187620   \n",
       "min        1.000000      1.000000      1.000000      1.000000      0.000000   \n",
       "25%     1476.000000      1.000000      1.000000      4.000000     20.000000   \n",
       "50%     2598.000000      1.000000      2.000000      8.000000     37.000000   \n",
       "75%     3898.000000      1.000000      3.000000     11.000000     57.000000   \n",
       "max     5826.000000      4.000000     13.000000     15.000000     99.000000   \n",
       "\n",
       "       ingreso_total_lab  ingreso_total_no_lab  ingresos_totales  \\\n",
       "count       14497.000000          14497.000000      14497.000000   \n",
       "mean        13256.470235           4153.135614      17409.605849   \n",
       "std         21670.418311          11309.867813      23484.303382   \n",
       "min             0.000000              0.000000          0.000000   \n",
       "25%             0.000000              0.000000          0.000000   \n",
       "50%           500.000000              0.000000      10500.000000   \n",
       "75%         20000.000000           4000.000000      25000.000000   \n",
       "max        400000.000000         319000.000000     416000.000000   \n",
       "\n",
       "       ingresos_familiares  ingreso_per_capita_familiar  años_escolaridad  \\\n",
       "count         14497.000000                 14497.000000      14497.000000   \n",
       "mean          47506.769470                 17476.569566         10.756570   \n",
       "std           40731.618273                 16656.798805          5.343176   \n",
       "min               0.000000                     0.000000          0.000000   \n",
       "25%           20200.000000                  7250.000000          7.000000   \n",
       "50%           37000.000000                 13300.000000         12.000000   \n",
       "75%           61000.000000                 22500.000000         15.000000   \n",
       "max          450000.000000                335000.000000         19.000000   \n",
       "\n",
       "       cantidad_hijos_nac_vivos  \n",
       "count              14497.000000  \n",
       "mean                   0.633510  \n",
       "std                    1.220509  \n",
       "min                    0.000000  \n",
       "25%                    0.000000  \n",
       "50%                    0.000000  \n",
       "75%                    1.000000  \n",
       "max                   14.000000  "
      ]
     },
     "execution_count": 33,
     "metadata": {},
     "output_type": "execute_result"
    }
   ],
   "source": [
    "dataframe.describe()"
   ]
  },
  {
   "cell_type": "code",
   "execution_count": 34,
   "metadata": {},
   "outputs": [
    {
     "name": "stdout",
     "output_type": "stream",
     "text": [
      "<class 'pandas.core.frame.DataFrame'>\n",
      "RangeIndex: 14497 entries, 0 to 14496\n",
      "Data columns (total 31 columns):\n",
      " #   Column                       Non-Null Count  Dtype \n",
      "---  ------                       --------------  ----- \n",
      " 0   id                           14497 non-null  int64 \n",
      " 1   nhogar                       14497 non-null  int64 \n",
      " 2   miembro                      14497 non-null  int64 \n",
      " 3   comuna                       14497 non-null  int64 \n",
      " 4   dominio                      14497 non-null  object\n",
      " 5   edad                         14497 non-null  int64 \n",
      " 6   sexo                         14497 non-null  object\n",
      " 7   parentesco_jefe              14497 non-null  object\n",
      " 8   situacion_conyugal           14497 non-null  object\n",
      " 9   num_miembro_padre            14497 non-null  object\n",
      " 10  num_miembro_madre            14497 non-null  object\n",
      " 11  estado_ocupacional           14497 non-null  object\n",
      " 12  cat_ocupacional              14497 non-null  object\n",
      " 13  calidad_ingresos_lab         14497 non-null  object\n",
      " 14  ingreso_total_lab            14497 non-null  int64 \n",
      " 15  calidad_ingresos_no_lab      14497 non-null  object\n",
      " 16  ingreso_total_no_lab         14497 non-null  int64 \n",
      " 17  calidad_ingresos_totales     14497 non-null  object\n",
      " 18  ingresos_totales             14497 non-null  int64 \n",
      " 19  calidad_ingresos_familiares  14497 non-null  object\n",
      " 20  ingresos_familiares          14497 non-null  int64 \n",
      " 21  ingreso_per_capita_familiar  14497 non-null  int64 \n",
      " 22  estado_educativo             14497 non-null  object\n",
      " 23  sector_educativo             14497 non-null  object\n",
      " 24  nivel_actual                 14497 non-null  object\n",
      " 25  nivel_max_educativo          14497 non-null  object\n",
      " 26  años_escolaridad             14497 non-null  int32 \n",
      " 27  lugar_nacimiento             14497 non-null  object\n",
      " 28  afiliacion_salud             14497 non-null  object\n",
      " 29  hijos_nacidos_vivos          14497 non-null  object\n",
      " 30  cantidad_hijos_nac_vivos     14497 non-null  int32 \n",
      "dtypes: int32(2), int64(10), object(19)\n",
      "memory usage: 3.3+ MB\n"
     ]
    }
   ],
   "source": [
    "dataframe.info()"
   ]
  },
  {
   "cell_type": "code",
   "execution_count": 35,
   "metadata": {},
   "outputs": [
    {
     "data": {
      "text/plain": [
       "<Axes: xlabel='años_escolaridad', ylabel='ingreso_per_capita_familiar'>"
      ]
     },
     "execution_count": 35,
     "metadata": {},
     "output_type": "execute_result"
    },
    {
     "data": {
      "image/png": "[encoded data removed]",
      "text/plain": [
       "<Figure size 640x480 with 1 Axes>"
      ]
     },
     "metadata": {},
     "output_type": "display_data"
    }
   ],
   "source": [
    "sns.boxplot(x=dataframe['años_escolaridad'], y=dataframe['ingreso_per_capita_familiar'])"
   ]
  },
  {
   "cell_type": "code",
   "execution_count": 36,
   "metadata": {},
   "outputs": [
    {
     "name": "stdout",
     "output_type": "stream",
     "text": [
      "<class 'pandas.core.frame.DataFrame'>\n",
      "RangeIndex: 14497 entries, 0 to 14496\n",
      "Data columns (total 31 columns):\n",
      " #   Column                       Non-Null Count  Dtype \n",
      "---  ------                       --------------  ----- \n",
      " 0   id                           14497 non-null  int64 \n",
      " 1   nhogar                       14497 non-null  int64 \n",
      " 2   miembro                      14497 non-null  int64 \n",
      " 3   comuna                       14497 non-null  int64 \n",
      " 4   dominio                      14497 non-null  object\n",
      " 5   edad                         14497 non-null  int64 \n",
      " 6   sexo                         14497 non-null  object\n",
      " 7   parentesco_jefe              14497 non-null  object\n",
      " 8   situacion_conyugal           14497 non-null  object\n",
      " 9   num_miembro_padre            14497 non-null  object\n",
      " 10  num_miembro_madre            14497 non-null  object\n",
      " 11  estado_ocupacional           14497 non-null  object\n",
      " 12  cat_ocupacional              14497 non-null  object\n",
      " 13  calidad_ingresos_lab         14497 non-null  object\n",
      " 14  ingreso_total_lab            14497 non-null  int64 \n",
      " 15  calidad_ingresos_no_lab      14497 non-null  object\n",
      " 16  ingreso_total_no_lab         14497 non-null  int64 \n",
      " 17  calidad_ingresos_totales     14497 non-null  object\n",
      " 18  ingresos_totales             14497 non-null  int64 \n",
      " 19  calidad_ingresos_familiares  14497 non-null  object\n",
      " 20  ingresos_familiares          14497 non-null  int64 \n",
      " 21  ingreso_per_capita_familiar  14497 non-null  int64 \n",
      " 22  estado_educativo             14497 non-null  object\n",
      " 23  sector_educativo             14497 non-null  object\n",
      " 24  nivel_actual                 14497 non-null  object\n",
      " 25  nivel_max_educativo          14497 non-null  object\n",
      " 26  años_escolaridad             14497 non-null  int32 \n",
      " 27  lugar_nacimiento             14497 non-null  object\n",
      " 28  afiliacion_salud             14497 non-null  object\n",
      " 29  hijos_nacidos_vivos          14497 non-null  object\n",
      " 30  cantidad_hijos_nac_vivos     14497 non-null  int32 \n",
      "dtypes: int32(2), int64(10), object(19)\n",
      "memory usage: 3.3+ MB\n"
     ]
    }
   ],
   "source": [
    "dataframe.info()"
   ]
  },
  {
   "cell_type": "code",
   "execution_count": 37,
   "metadata": {},
   "outputs": [
    {
     "data": {
      "text/plain": [
       "<Axes: xlabel='dominio', ylabel='id'>"
      ]
     },
     "execution_count": 37,
     "metadata": {},
     "output_type": "execute_result"
    },
    {
     "data": {
      "image/png": "[encoded data removed]",
      "text/plain": [
       "<Figure size 640x480 with 1 Axes>"
      ]
     },
     "metadata": {},
     "output_type": "display_data"
    }
   ],
   "source": [
    "sns.barplot(x=dataframe['dominio'], y=dataframe['id'])"
   ]
  },
  {
   "cell_type": "code",
   "execution_count": 41,
   "metadata": {},
   "outputs": [
    {
     "data": {
      "text/plain": [
       "<Axes: >"
      ]
     },
     "execution_count": 41,
     "metadata": {},
     "output_type": "execute_result"
    },
    {
     "data": {
      "image/png": "[encoded data removed]",
      "text/plain": [
       "<Figure size 640x480 with 2 Axes>"
      ]
     },
     "metadata": {},
     "output_type": "display_data"
    }
   ],
   "source": [
    "sns.heatmap(dataframe[['ingreso_per_capita_familiar', 'edad','años_escolaridad', 'nhogar', 'miembro','comuna']].corr(), annot=True)"
   ]
  },
  {
   "cell_type": "markdown",
   "metadata": {},
   "source": [
    "# Codear datos categoricos\n",
    "\n",
    "si son solo 2 valores hago dummy con pandas\n",
    "\n",
    "si tiene mas de 2 label encoder con sklearn"
   ]
  },
  {
   "cell_type": "code",
   "execution_count": 38,
   "metadata": {},
   "outputs": [],
   "source": [
    "def num_or_cat(df):\n",
    "    categorical = df.select_dtypes(include='object').columns\n",
    "    numerical = df.select_dtypes(exclude='object').columns\n",
    "\n",
    "    return(categorical, numerical)"
   ]
  },
  {
   "cell_type": "code",
   "execution_count": 39,
   "metadata": {},
   "outputs": [
    {
     "data": {
      "text/plain": [
       "Index(['dominio', 'sexo', 'parentesco_jefe', 'situacion_conyugal',\n",
       "       'num_miembro_padre', 'num_miembro_madre', 'estado_ocupacional',\n",
       "       'cat_ocupacional', 'calidad_ingresos_lab', 'calidad_ingresos_no_lab',\n",
       "       'calidad_ingresos_totales', 'calidad_ingresos_familiares',\n",
       "       'estado_educativo', 'sector_educativo', 'nivel_actual',\n",
       "       'nivel_max_educativo', 'lugar_nacimiento', 'afiliacion_salud',\n",
       "       'hijos_nacidos_vivos'],\n",
       "      dtype='object')"
      ]
     },
     "execution_count": 39,
     "metadata": {},
     "output_type": "execute_result"
    }
   ],
   "source": [
    "categorical_cols, numerical_cols= num_or_cat(dataframe)\n",
    "categorical_cols"
   ]
  },
  {
   "cell_type": "code",
   "execution_count": 40,
   "metadata": {},
   "outputs": [
    {
     "data": {
      "text/plain": [
       "['dominio', 'sexo', 'hijos_nacidos_vivos']"
      ]
     },
     "execution_count": 40,
     "metadata": {},
     "output_type": "execute_result"
    }
   ],
   "source": [
    "booleanas = []\n",
    "for col in categorical_cols:\n",
    "    if len(dataframe[col].unique()) == 2:\n",
    "        booleanas.append(col)\n",
    "booleanas"
   ]
  },
  {
   "cell_type": "code",
   "execution_count": null,
   "metadata": {},
   "outputs": [],
   "source": [
    "dataframe['dominio'].unique()"
   ]
  },
  {
   "cell_type": "code",
   "execution_count": null,
   "metadata": {},
   "outputs": [],
   "source": [
    "dominio_dummie = pd.get_dummies(dataframe['dominio']).astype(int)"
   ]
  },
  {
   "cell_type": "code",
   "execution_count": null,
   "metadata": {},
   "outputs": [],
   "source": [
    "dominio_dummie"
   ]
  },
  {
   "cell_type": "code",
   "execution_count": null,
   "metadata": {},
   "outputs": [],
   "source": [
    "dataframe = pd.concat([dataframe, dominio_dummie], axis=1)"
   ]
  },
  {
   "cell_type": "code",
   "execution_count": null,
   "metadata": {},
   "outputs": [],
   "source": [
    "dataframe = dataframe.drop(labels='dominio',axis=1)"
   ]
  },
  {
   "cell_type": "code",
   "execution_count": null,
   "metadata": {},
   "outputs": [],
   "source": [
    "label_encoder = LabelEncoder()\n",
    "\n",
    "dataframe['CategoryEncoded'] = label_encoder.fit_transform(dataframe['Category'])"
   ]
  }
 ],
 "metadata": {
  "kernelspec": {
   "display_name": "Python 3",
   "language": "python",
   "name": "python3"
  },
  "language_info": {
   "codemirror_mode": {
    "name": "ipython",
    "version": 3
   },
   "file_extension": ".py",
   "mimetype": "text/x-python",
   "name": "python",
   "nbconvert_exporter": "python",
   "pygments_lexer": "ipython3",
   "version": "3.11.4"
  }
 },
 "nbformat": 4,
 "nbformat_minor": 2
}
