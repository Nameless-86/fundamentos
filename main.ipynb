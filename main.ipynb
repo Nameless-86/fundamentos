{
 "cells": [
  {
   "cell_type": "markdown",
   "metadata": {},
   "source": [
    "Parte 1\n",
    "En la primera entrega deberán:\n",
    "Describir el tema que quieren analizar\n",
    "\n",
    "Realizar el análisis exploratorio de las variables de interés, medidas de resumen y visualización, para responder su pregunta.\n",
    "\n",
    "Por ejemplo, distribución de lasvariables, correlación entre las mismas, tabulaciones cruzadas, etc\n"
   ]
  },
  {
   "cell_type": "markdown",
   "metadata": {},
   "source": [
    "# Aclaraciones\n",
    "+ Producción Primaria (m3): Primary production refers to the initial phase of oil and gas extraction from a reservoir where the natural forces within the reservoir, such as pressure and natural gas expansion, drive the oil to the surface. This value represents the volume of oil produced through primary production, measured in cubic meters (m3).\n",
    "\n",
    "+ Producción Secundaria (m3): Secondary production involves the injection of external substances (such as water or gas) into the reservoir to enhance the recovery of oil after the primary production phase. This value represents the volume of oil produced through secondary production, measured in cubic meters (m3).\n",
    "\n",
    "+ Producción de Agua (m3): This represents the volume of water produced along with the oil. Water production is common in oil fields, and managing water production is crucial for effective field development.\n",
    "\n",
    "+ Producción de Gasolina Estabilizada (m3): This represents the volume of stabilized gasoline produced. Stabilization is a process that removes lighter hydrocarbons from the crude oil, making it suitable for transport and refining.\n",
    "\n",
    "+ Producción por Recuperación Asistida (m3): This likely refers to production through enhanced oil recovery (EOR) methods, where various techniques are employed to increase the amount of oil that can be recovered from a reservoir. This could include methods like steam injection, chemical injection, or gas injection.\n",
    "\n",
    "+ Producción de Condensado (m3): Condensate is a high-value, light liquid hydrocarbon extracted along with natural gas. This value represents the volume of condensate produced, measured in cubic meters (m3)."
   ]
  },
  {
   "cell_type": "code",
   "execution_count": 1,
   "metadata": {},
   "outputs": [],
   "source": [
    "import pandas as pd\n",
    "import numpy as np\n",
    "import matplotlib.pyplot as plt\n",
    "import seaborn as sns"
   ]
  },
  {
   "cell_type": "code",
   "execution_count": 2,
   "metadata": {},
   "outputs": [
    {
     "data": {
      "text/html": [
       "<div>\n",
       "<style scoped>\n",
       "    .dataframe tbody tr th:only-of-type {\n",
       "        vertical-align: middle;\n",
       "    }\n",
       "\n",
       "    .dataframe tbody tr th {\n",
       "        vertical-align: top;\n",
       "    }\n",
       "\n",
       "    .dataframe thead th {\n",
       "        text-align: right;\n",
       "    }\n",
       "</style>\n",
       "<table border=\"1\" class=\"dataframe\">\n",
       "  <thead>\n",
       "    <tr style=\"text-align: right;\">\n",
       "      <th></th>\n",
       "      <th>anio</th>\n",
       "      <th>mes</th>\n",
       "      <th>idempresa</th>\n",
       "      <th>empresa</th>\n",
       "      <th>idareapermisoconcesion</th>\n",
       "      <th>areapermisoconcesion</th>\n",
       "      <th>idareayacimiento</th>\n",
       "      <th>areayacimiento</th>\n",
       "      <th>idcuenca</th>\n",
       "      <th>cuenca</th>\n",
       "      <th>idprovincia</th>\n",
       "      <th>provincia</th>\n",
       "      <th>idubicacion</th>\n",
       "      <th>ubicacion</th>\n",
       "      <th>idconcepto</th>\n",
       "      <th>concepto</th>\n",
       "      <th>Cantidad</th>\n",
       "      <th>observaciones</th>\n",
       "      <th>fecha_data</th>\n",
       "    </tr>\n",
       "  </thead>\n",
       "  <tbody>\n",
       "    <tr>\n",
       "      <th>0</th>\n",
       "      <td>1993</td>\n",
       "      <td>1</td>\n",
       "      <td>AAO</td>\n",
       "      <td>Amoco Argentina Oil S.A.</td>\n",
       "      <td>ANG</td>\n",
       "      <td>ANTICLINAL GRANDE - CERRO DRAGON</td>\n",
       "      <td>NO</td>\n",
       "      <td>NO</td>\n",
       "      <td>NO</td>\n",
       "      <td>NO</td>\n",
       "      <td>U</td>\n",
       "      <td>CHUBUT</td>\n",
       "      <td>0</td>\n",
       "      <td>NO</td>\n",
       "      <td>4</td>\n",
       "      <td>Consumo en Yacimiento (m3)</td>\n",
       "      <td>0.00</td>\n",
       "      <td>NaN</td>\n",
       "      <td>1993-01-31</td>\n",
       "    </tr>\n",
       "    <tr>\n",
       "      <th>1</th>\n",
       "      <td>1993</td>\n",
       "      <td>1</td>\n",
       "      <td>AAO</td>\n",
       "      <td>Amoco Argentina Oil S.A.</td>\n",
       "      <td>ANG</td>\n",
       "      <td>ANTICLINAL GRANDE - CERRO DRAGON</td>\n",
       "      <td>NO</td>\n",
       "      <td>NO</td>\n",
       "      <td>NO</td>\n",
       "      <td>NO</td>\n",
       "      <td>U</td>\n",
       "      <td>CHUBUT</td>\n",
       "      <td>0</td>\n",
       "      <td>NO</td>\n",
       "      <td>1</td>\n",
       "      <td>Producción Primaria (m3)</td>\n",
       "      <td>172455.00</td>\n",
       "      <td>NaN</td>\n",
       "      <td>1993-01-31</td>\n",
       "    </tr>\n",
       "    <tr>\n",
       "      <th>2</th>\n",
       "      <td>1993</td>\n",
       "      <td>1</td>\n",
       "      <td>AAO</td>\n",
       "      <td>Amoco Argentina Oil S.A.</td>\n",
       "      <td>ANG</td>\n",
       "      <td>ANTICLINAL GRANDE - CERRO DRAGON</td>\n",
       "      <td>NO</td>\n",
       "      <td>NO</td>\n",
       "      <td>NO</td>\n",
       "      <td>NO</td>\n",
       "      <td>U</td>\n",
       "      <td>CHUBUT</td>\n",
       "      <td>0</td>\n",
       "      <td>NO</td>\n",
       "      <td>2</td>\n",
       "      <td>Producción Secundaria (m3)</td>\n",
       "      <td>50642.00</td>\n",
       "      <td>NaN</td>\n",
       "      <td>1993-01-31</td>\n",
       "    </tr>\n",
       "    <tr>\n",
       "      <th>3</th>\n",
       "      <td>1993</td>\n",
       "      <td>1</td>\n",
       "      <td>AAO</td>\n",
       "      <td>Amoco Argentina Oil S.A.</td>\n",
       "      <td>ANG</td>\n",
       "      <td>ANTICLINAL GRANDE - CERRO DRAGON</td>\n",
       "      <td>NO</td>\n",
       "      <td>NO</td>\n",
       "      <td>NO</td>\n",
       "      <td>NO</td>\n",
       "      <td>U</td>\n",
       "      <td>CHUBUT</td>\n",
       "      <td>0</td>\n",
       "      <td>NO</td>\n",
       "      <td>5</td>\n",
       "      <td>Densidad Media (Ton/m3)</td>\n",
       "      <td>0.91</td>\n",
       "      <td>NaN</td>\n",
       "      <td>1993-01-31</td>\n",
       "    </tr>\n",
       "    <tr>\n",
       "      <th>4</th>\n",
       "      <td>1993</td>\n",
       "      <td>1</td>\n",
       "      <td>AMP</td>\n",
       "      <td>AMPOLEX S.A.</td>\n",
       "      <td>AGU</td>\n",
       "      <td>AGUARAGÜE</td>\n",
       "      <td>NO</td>\n",
       "      <td>NO</td>\n",
       "      <td>NO</td>\n",
       "      <td>NO</td>\n",
       "      <td>A</td>\n",
       "      <td>SALTA</td>\n",
       "      <td>0</td>\n",
       "      <td>NO</td>\n",
       "      <td>2</td>\n",
       "      <td>Producción Secundaria (m3)</td>\n",
       "      <td>0.00</td>\n",
       "      <td>NaN</td>\n",
       "      <td>1993-01-31</td>\n",
       "    </tr>\n",
       "  </tbody>\n",
       "</table>\n",
       "</div>"
      ],
      "text/plain": [
       "   anio  mes idempresa                   empresa idareapermisoconcesion  \\\n",
       "0  1993    1       AAO  Amoco Argentina Oil S.A.                    ANG   \n",
       "1  1993    1       AAO  Amoco Argentina Oil S.A.                    ANG   \n",
       "2  1993    1       AAO  Amoco Argentina Oil S.A.                    ANG   \n",
       "3  1993    1       AAO  Amoco Argentina Oil S.A.                    ANG   \n",
       "4  1993    1       AMP              AMPOLEX S.A.                    AGU   \n",
       "\n",
       "               areapermisoconcesion idareayacimiento areayacimiento idcuenca  \\\n",
       "0  ANTICLINAL GRANDE - CERRO DRAGON               NO             NO       NO   \n",
       "1  ANTICLINAL GRANDE - CERRO DRAGON               NO             NO       NO   \n",
       "2  ANTICLINAL GRANDE - CERRO DRAGON               NO             NO       NO   \n",
       "3  ANTICLINAL GRANDE - CERRO DRAGON               NO             NO       NO   \n",
       "4                         AGUARAGÜE               NO             NO       NO   \n",
       "\n",
       "  cuenca idprovincia provincia  idubicacion ubicacion  idconcepto  \\\n",
       "0     NO           U    CHUBUT            0        NO           4   \n",
       "1     NO           U    CHUBUT            0        NO           1   \n",
       "2     NO           U    CHUBUT            0        NO           2   \n",
       "3     NO           U    CHUBUT            0        NO           5   \n",
       "4     NO           A     SALTA            0        NO           2   \n",
       "\n",
       "                     concepto   Cantidad  observaciones  fecha_data  \n",
       "0  Consumo en Yacimiento (m3)       0.00            NaN  1993-01-31  \n",
       "1    Producción Primaria (m3)  172455.00            NaN  1993-01-31  \n",
       "2  Producción Secundaria (m3)   50642.00            NaN  1993-01-31  \n",
       "3     Densidad Media (Ton/m3)       0.91            NaN  1993-01-31  \n",
       "4  Producción Secundaria (m3)       0.00            NaN  1993-01-31  "
      ]
     },
     "execution_count": 2,
     "metadata": {},
     "output_type": "execute_result"
    }
   ],
   "source": [
    "dataframe = pd.read_csv('petroleo.csv')\n",
    "dataframe.head()"
   ]
  },
  {
   "cell_type": "markdown",
   "metadata": {},
   "source": [
    "Las columnas que tienen ids serian mas utiles para utilizar en una base de datos, para el analisis que sera realizado no las necesito, por lo tanto las elimino, en primera instancia lo que me interesa es en que año se produjo mas petroleo dependiendo de la provincia.\n",
    "La fecha en la que se obtuvieron estos datos tampoco sera usada"
   ]
  },
  {
   "cell_type": "code",
   "execution_count": 3,
   "metadata": {},
   "outputs": [],
   "source": [
    "columnas_a_eliminar = [\"idareapermisoconcesion\", \"idareayacimiento\", \"idcuenca\", \"idprovincia\", \"idubicacion\", \"idconcepto\", \"fecha_data\"]\n",
    "dataframe = dataframe.drop(columns=columnas_a_eliminar)"
   ]
  },
  {
   "cell_type": "markdown",
   "metadata": {},
   "source": [
    "Observaciones es una columna que no tiene nada por lo tanto tambien se elimina, al igual que areayacimiento cuenca y ubicacion"
   ]
  },
  {
   "cell_type": "code",
   "execution_count": 4,
   "metadata": {},
   "outputs": [
    {
     "data": {
      "text/plain": [
       "array([nan])"
      ]
     },
     "execution_count": 4,
     "metadata": {},
     "output_type": "execute_result"
    }
   ],
   "source": [
    "dataframe['observaciones'].unique()"
   ]
  },
  {
   "cell_type": "code",
   "execution_count": 5,
   "metadata": {},
   "outputs": [],
   "source": [
    "dataframe = dataframe.drop(columns=['observaciones', 'areayacimiento','cuenca','ubicacion'])"
   ]
  },
  {
   "cell_type": "markdown",
   "metadata": {},
   "source": [
    "En idempresa esta aja y AJA, para seguir el formato la reemplazo por AJA"
   ]
  },
  {
   "cell_type": "code",
   "execution_count": 6,
   "metadata": {},
   "outputs": [
    {
     "data": {
      "text/plain": [
       "array(['Consumo en Yacimiento (m3)', 'Producción Primaria (m3)',\n",
       "       'Producción Secundaria (m3)', 'Densidad Media (Ton/m3)',\n",
       "       'Producción de Agua (m3)',\n",
       "       'Producción de Gasolina Estabilizada (m3)',\n",
       "       'Producción por Recuperación Aisistida (m3)',\n",
       "       'Producción de Condensado (m3)', 'Inyección de Agua (m3)'],\n",
       "      dtype=object)"
      ]
     },
     "execution_count": 6,
     "metadata": {},
     "output_type": "execute_result"
    }
   ],
   "source": [
    "dataframe['concepto'].unique()"
   ]
  },
  {
   "cell_type": "code",
   "execution_count": 7,
   "metadata": {},
   "outputs": [],
   "source": [
    "reemplazo = {'aja': 'AJA'}\n",
    "dataframe['idempresa'] = dataframe['idempresa'].replace(reemplazo)"
   ]
  },
  {
   "cell_type": "markdown",
   "metadata": {},
   "source": [
    "Como solamente quiero calcular la produccion me voy a quedar solamente con las filas que contengan informacion de la misma, ignorando la densidad o lo que se consuma en el yacimiento"
   ]
  },
  {
   "cell_type": "code",
   "execution_count": 8,
   "metadata": {},
   "outputs": [],
   "source": [
    "dataframe = dataframe[dataframe['concepto'].str.contains('Producción')]"
   ]
  },
  {
   "cell_type": "code",
   "execution_count": 9,
   "metadata": {},
   "outputs": [],
   "source": [
    "dataframe.dropna(inplace=True)"
   ]
  },
  {
   "cell_type": "code",
   "execution_count": 10,
   "metadata": {},
   "outputs": [
    {
     "name": "stdout",
     "output_type": "stream",
     "text": [
      "<class 'pandas.core.frame.DataFrame'>\n",
      "RangeIndex: 178812 entries, 0 to 178811\n",
      "Data columns (total 8 columns):\n",
      " #   Column                Non-Null Count   Dtype  \n",
      "---  ------                --------------   -----  \n",
      " 0   anio                  178812 non-null  int64  \n",
      " 1   mes                   178812 non-null  int64  \n",
      " 2   idempresa             178812 non-null  object \n",
      " 3   empresa               178812 non-null  object \n",
      " 4   areapermisoconcesion  178812 non-null  object \n",
      " 5   provincia             178812 non-null  object \n",
      " 6   concepto              178812 non-null  object \n",
      " 7   Cantidad              178812 non-null  float64\n",
      "dtypes: float64(1), int64(2), object(5)\n",
      "memory usage: 10.9+ MB\n"
     ]
    }
   ],
   "source": [
    "dataframe.reset_index(drop=True, inplace=True)\n",
    "dataframe.info()"
   ]
  },
  {
   "cell_type": "markdown",
   "metadata": {},
   "source": [
    "# --------------"
   ]
  },
  {
   "cell_type": "code",
   "execution_count": 11,
   "metadata": {},
   "outputs": [],
   "source": [
    "atipico = dataframe[dataframe['Cantidad'] == 43344518.447].index\n",
    "dataframe = dataframe.drop(atipico)\n"
   ]
  },
  {
   "cell_type": "markdown",
   "metadata": {},
   "source": [
    "Hay un valor atipico en cantidad que esta arrastrando mucho los datos, va a ser buscado y eliminado"
   ]
  },
  {
   "cell_type": "code",
   "execution_count": 13,
   "metadata": {},
   "outputs": [
    {
     "data": {
      "text/plain": [
       "<Axes: xlabel='Cantidad'>"
      ]
     },
     "execution_count": 13,
     "metadata": {},
     "output_type": "execute_result"
    },
    {
     "data": {
      "image/png": "[encoded data removed]",
      "text/plain": [
       "<Figure size 640x480 with 1 Axes>"
      ]
     },
     "metadata": {},
     "output_type": "display_data"
    }
   ],
   "source": [
    "sns.boxplot(x=dataframe['Cantidad'])"
   ]
  },
  {
   "cell_type": "code",
   "execution_count": 17,
   "metadata": {},
   "outputs": [
    {
     "data": {
      "text/plain": [
       "<Axes: xlabel='Cantidad', ylabel='provincia'>"
      ]
     },
     "execution_count": 17,
     "metadata": {},
     "output_type": "execute_result"
    },
    {
     "data": {
      "image/png": "[encoded data removed]",
      "text/plain": [
       "<Figure size 640x480 with 1 Axes>"
      ]
     },
     "metadata": {},
     "output_type": "display_data"
    }
   ],
   "source": [
    "sns.scatterplot(x=dataframe['Cantidad'], y=dataframe['provincia'])"
   ]
  },
  {
   "cell_type": "code",
   "execution_count": null,
   "metadata": {},
   "outputs": [],
   "source": []
  }
 ],
 "metadata": {
  "kernelspec": {
   "display_name": "Python 3",
   "language": "python",
   "name": "python3"
  },
  "language_info": {
   "codemirror_mode": {
    "name": "ipython",
    "version": 3
   },
   "file_extension": ".py",
   "mimetype": "text/x-python",
   "name": "python",
   "nbconvert_exporter": "python",
   "pygments_lexer": "ipython3",
   "version": "3.11.4"
  }
 },
 "nbformat": 4,
 "nbformat_minor": 2
}
